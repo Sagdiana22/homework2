{
  "cells": [
    {
      "cell_type": "markdown",
      "id": "6b295cba",
      "metadata": {},
      "source": [
        "# Practice Pandas(second part)"
      ]
    },
    {
      "cell_type": "code",
      "execution_count": 63,
      "id": "76ca27d8-ac49-45aa-9c42-14709d502433",
      "metadata": {
        "id": "76ca27d8-ac49-45aa-9c42-14709d502433"
      },
      "outputs": [],
      "source": [
        "import pandas as pd\n",
        "import numpy as np"
      ]
    },
    {
      "cell_type": "code",
      "execution_count": 66,
      "id": "8f943f58-4ae4-411a-907c-753e8afac44b",
      "metadata": {
        "id": "8f943f58-4ae4-411a-907c-753e8afac44b"
      },
      "outputs": [],
      "source": [
        "df = pd.read_csv(\"world_population.csv\", index_col=0)\n"
      ]
    },
    {
      "cell_type": "code",
      "execution_count": 67,
      "id": "43cf4381",
      "metadata": {},
      "outputs": [
        {
          "data": {
            "text/html": [
              "<div>\n",
              "<style scoped>\n",
              "    .dataframe tbody tr th:only-of-type {\n",
              "        vertical-align: middle;\n",
              "    }\n",
              "\n",
              "    .dataframe tbody tr th {\n",
              "        vertical-align: top;\n",
              "    }\n",
              "\n",
              "    .dataframe thead th {\n",
              "        text-align: right;\n",
              "    }\n",
              "</style>\n",
              "<table border=\"1\" class=\"dataframe\">\n",
              "  <thead>\n",
              "    <tr style=\"text-align: right;\">\n",
              "      <th></th>\n",
              "      <th>country</th>\n",
              "      <th>density</th>\n",
              "      <th>densityMi</th>\n",
              "      <th>pop2021</th>\n",
              "      <th>area</th>\n",
              "    </tr>\n",
              "    <tr>\n",
              "      <th>rank</th>\n",
              "      <th></th>\n",
              "      <th></th>\n",
              "      <th></th>\n",
              "      <th></th>\n",
              "      <th></th>\n",
              "    </tr>\n",
              "  </thead>\n",
              "  <tbody>\n",
              "    <tr>\n",
              "      <th>1</th>\n",
              "      <td>Macau</td>\n",
              "      <td>21946.4667</td>\n",
              "      <td>56841.3487</td>\n",
              "      <td>658.394</td>\n",
              "      <td>30</td>\n",
              "    </tr>\n",
              "    <tr>\n",
              "      <th>2</th>\n",
              "      <td>Monaco</td>\n",
              "      <td>19755.5000</td>\n",
              "      <td>51166.7450</td>\n",
              "      <td>39.511</td>\n",
              "      <td>2</td>\n",
              "    </tr>\n",
              "    <tr>\n",
              "      <th>3</th>\n",
              "      <td>Singapore</td>\n",
              "      <td>8305.1915</td>\n",
              "      <td>21510.4461</td>\n",
              "      <td>5896.686</td>\n",
              "      <td>710</td>\n",
              "    </tr>\n",
              "    <tr>\n",
              "      <th>4</th>\n",
              "      <td>Hong Kong</td>\n",
              "      <td>6841.3134</td>\n",
              "      <td>17719.0017</td>\n",
              "      <td>7552.810</td>\n",
              "      <td>1104</td>\n",
              "    </tr>\n",
              "    <tr>\n",
              "      <th>5</th>\n",
              "      <td>Gibraltar</td>\n",
              "      <td>5616.3333</td>\n",
              "      <td>14546.3033</td>\n",
              "      <td>33.698</td>\n",
              "      <td>6</td>\n",
              "    </tr>\n",
              "  </tbody>\n",
              "</table>\n",
              "</div>"
            ],
            "text/plain": [
              "        country     density   densityMi   pop2021  area\n",
              "rank                                                   \n",
              "1         Macau  21946.4667  56841.3487   658.394    30\n",
              "2        Monaco  19755.5000  51166.7450    39.511     2\n",
              "3     Singapore   8305.1915  21510.4461  5896.686   710\n",
              "4     Hong Kong   6841.3134  17719.0017  7552.810  1104\n",
              "5     Gibraltar   5616.3333  14546.3033    33.698     6"
            ]
          },
          "execution_count": 67,
          "metadata": {},
          "output_type": "execute_result"
        }
      ],
      "source": [
        "df.head()"
      ]
    },
    {
      "cell_type": "markdown",
      "id": "55ad9f8e",
      "metadata": {
        "id": "55ad9f8e"
      },
      "source": [
        "### 1-VAZIFA. Yuqoridagi DF ustunlari nomini quyidagi qiymatlarga o'zgartiring va DF yuqorisidan 3 ta davlatni chiqaring\n",
        "`['davlat','zichlik_km','zichlik_mi','aholi','maydoni']`"
      ]
    },
    {
      "cell_type": "code",
      "execution_count": 37,
      "id": "IMjytTZ0t40I",
      "metadata": {
        "id": "IMjytTZ0t40I"
      },
      "outputs": [
        {
          "data": {
            "text/html": [
              "<div>\n",
              "<style scoped>\n",
              "    .dataframe tbody tr th:only-of-type {\n",
              "        vertical-align: middle;\n",
              "    }\n",
              "\n",
              "    .dataframe tbody tr th {\n",
              "        vertical-align: top;\n",
              "    }\n",
              "\n",
              "    .dataframe thead th {\n",
              "        text-align: right;\n",
              "    }\n",
              "</style>\n",
              "<table border=\"1\" class=\"dataframe\">\n",
              "  <thead>\n",
              "    <tr style=\"text-align: right;\">\n",
              "      <th></th>\n",
              "      <th>davlat</th>\n",
              "      <th>zichlik-km</th>\n",
              "      <th>zichlik_mi</th>\n",
              "      <th>aholi</th>\n",
              "      <th>maydoni</th>\n",
              "    </tr>\n",
              "    <tr>\n",
              "      <th>rank</th>\n",
              "      <th></th>\n",
              "      <th></th>\n",
              "      <th></th>\n",
              "      <th></th>\n",
              "      <th></th>\n",
              "    </tr>\n",
              "  </thead>\n",
              "  <tbody>\n",
              "    <tr>\n",
              "      <th>1</th>\n",
              "      <td>Macau</td>\n",
              "      <td>21946.4667</td>\n",
              "      <td>56841.3487</td>\n",
              "      <td>658.394</td>\n",
              "      <td>30</td>\n",
              "    </tr>\n",
              "    <tr>\n",
              "      <th>2</th>\n",
              "      <td>Monaco</td>\n",
              "      <td>19755.5000</td>\n",
              "      <td>51166.7450</td>\n",
              "      <td>39.511</td>\n",
              "      <td>2</td>\n",
              "    </tr>\n",
              "    <tr>\n",
              "      <th>3</th>\n",
              "      <td>Singapore</td>\n",
              "      <td>8305.1915</td>\n",
              "      <td>21510.4461</td>\n",
              "      <td>5896.686</td>\n",
              "      <td>710</td>\n",
              "    </tr>\n",
              "    <tr>\n",
              "      <th>4</th>\n",
              "      <td>Hong Kong</td>\n",
              "      <td>6841.3134</td>\n",
              "      <td>17719.0017</td>\n",
              "      <td>7552.810</td>\n",
              "      <td>1104</td>\n",
              "    </tr>\n",
              "    <tr>\n",
              "      <th>5</th>\n",
              "      <td>Gibraltar</td>\n",
              "      <td>5616.3333</td>\n",
              "      <td>14546.3033</td>\n",
              "      <td>33.698</td>\n",
              "      <td>6</td>\n",
              "    </tr>\n",
              "    <tr>\n",
              "      <th>...</th>\n",
              "      <td>...</td>\n",
              "      <td>...</td>\n",
              "      <td>...</td>\n",
              "      <td>...</td>\n",
              "      <td>...</td>\n",
              "    </tr>\n",
              "    <tr>\n",
              "      <th>228</th>\n",
              "      <td>Namibia</td>\n",
              "      <td>3.1338</td>\n",
              "      <td>8.1166</td>\n",
              "      <td>2587.344</td>\n",
              "      <td>825615</td>\n",
              "    </tr>\n",
              "    <tr>\n",
              "      <th>229</th>\n",
              "      <td>Western Sahara</td>\n",
              "      <td>2.3003</td>\n",
              "      <td>5.9577</td>\n",
              "      <td>611.875</td>\n",
              "      <td>266000</td>\n",
              "    </tr>\n",
              "    <tr>\n",
              "      <th>230</th>\n",
              "      <td>Mongolia</td>\n",
              "      <td>2.1286</td>\n",
              "      <td>5.5129</td>\n",
              "      <td>3329.289</td>\n",
              "      <td>1564110</td>\n",
              "    </tr>\n",
              "    <tr>\n",
              "      <th>231</th>\n",
              "      <td>Falkland Islands</td>\n",
              "      <td>0.2902</td>\n",
              "      <td>0.7517</td>\n",
              "      <td>3.533</td>\n",
              "      <td>12173</td>\n",
              "    </tr>\n",
              "    <tr>\n",
              "      <th>232</th>\n",
              "      <td>Greenland</td>\n",
              "      <td>0.0263</td>\n",
              "      <td>0.0680</td>\n",
              "      <td>56.877</td>\n",
              "      <td>2166086</td>\n",
              "    </tr>\n",
              "  </tbody>\n",
              "</table>\n",
              "<p>232 rows × 5 columns</p>\n",
              "</div>"
            ],
            "text/plain": [
              "                davlat  zichlik-km  zichlik_mi     aholi  maydoni\n",
              "rank                                                             \n",
              "1                Macau  21946.4667  56841.3487   658.394       30\n",
              "2               Monaco  19755.5000  51166.7450    39.511        2\n",
              "3            Singapore   8305.1915  21510.4461  5896.686      710\n",
              "4            Hong Kong   6841.3134  17719.0017  7552.810     1104\n",
              "5            Gibraltar   5616.3333  14546.3033    33.698        6\n",
              "...                ...         ...         ...       ...      ...\n",
              "228            Namibia      3.1338      8.1166  2587.344   825615\n",
              "229     Western Sahara      2.3003      5.9577   611.875   266000\n",
              "230           Mongolia      2.1286      5.5129  3329.289  1564110\n",
              "231   Falkland Islands      0.2902      0.7517     3.533    12173\n",
              "232          Greenland      0.0263      0.0680    56.877  2166086\n",
              "\n",
              "[232 rows x 5 columns]"
            ]
          },
          "execution_count": 37,
          "metadata": {},
          "output_type": "execute_result"
        }
      ],
      "source": [
        "# JAVOBNI SHUYERGA YOZING\n",
        "df.columns = ['davlat', 'zichlik-km', 'zichlik_mi', 'aholi', 'maydoni']\n",
        "df"
      ]
    },
    {
      "cell_type": "markdown",
      "id": "6ccd740a-a190-427e-a8ad-963e161cd7b1",
      "metadata": {
        "id": "6ccd740a-a190-427e-a8ad-963e161cd7b1"
      },
      "source": [
        "## Yuqoridagi jadval dunyo davlatlarining aholi zichligi bo'yicha reytingini ko'rsatadi.\n",
        "DF indeksi sifatida davlatning zichlik reytingi olingan (aholi eng zich yashaydigan davlatlar yuqorida).\n",
        "\n",
        "**Ustunlar:**\n",
        "\n",
        "`davlat` - Davlat nomi\n",
        "\n",
        "`zichlik_km` - har 1 kv.km. ga to'g'ri keluvchi aholi soni\n",
        "\n",
        "`zichlik_mi` - har 1 kv.milyaga to'g'ri keluvchi aholi soni (milya - AQSh masofa o'lchov birligi)\n",
        "\n",
        "`aholi` - 2021-yilga ko'rsa aholi soni (ming)\n",
        "\n",
        "`maydoni` - davlat maydoni (kv.km)"
      ]
    },
    {
      "cell_type": "markdown",
      "id": "whG3yzyntr-g",
      "metadata": {
        "id": "whG3yzyntr-g"
      },
      "source": [
        "### 2-VAZIFA. DF oxiridan 10 ta qator chiqaring."
      ]
    },
    {
      "cell_type": "code",
      "execution_count": 5,
      "id": "2203a21e-dc12-48b5-8d2e-737c42f72669",
      "metadata": {
        "id": "2203a21e-dc12-48b5-8d2e-737c42f72669"
      },
      "outputs": [
        {
          "data": {
            "text/html": [
              "<div>\n",
              "<style scoped>\n",
              "    .dataframe tbody tr th:only-of-type {\n",
              "        vertical-align: middle;\n",
              "    }\n",
              "\n",
              "    .dataframe tbody tr th {\n",
              "        vertical-align: top;\n",
              "    }\n",
              "\n",
              "    .dataframe thead th {\n",
              "        text-align: right;\n",
              "    }\n",
              "</style>\n",
              "<table border=\"1\" class=\"dataframe\">\n",
              "  <thead>\n",
              "    <tr style=\"text-align: right;\">\n",
              "      <th></th>\n",
              "      <th>davlat</th>\n",
              "      <th>zichlik-km</th>\n",
              "      <th>zichlik_mi</th>\n",
              "      <th>aholi</th>\n",
              "      <th>maydoni</th>\n",
              "    </tr>\n",
              "    <tr>\n",
              "      <th>rank</th>\n",
              "      <th></th>\n",
              "      <th></th>\n",
              "      <th></th>\n",
              "      <th></th>\n",
              "      <th></th>\n",
              "    </tr>\n",
              "  </thead>\n",
              "  <tbody>\n",
              "    <tr>\n",
              "      <th>223</th>\n",
              "      <td>Guyana</td>\n",
              "      <td>3.6765</td>\n",
              "      <td>9.5220</td>\n",
              "      <td>790.326</td>\n",
              "      <td>214969</td>\n",
              "    </tr>\n",
              "    <tr>\n",
              "      <th>224</th>\n",
              "      <td>French Guiana</td>\n",
              "      <td>3.6685</td>\n",
              "      <td>9.5015</td>\n",
              "      <td>306.448</td>\n",
              "      <td>83534</td>\n",
              "    </tr>\n",
              "    <tr>\n",
              "      <th>225</th>\n",
              "      <td>Suriname</td>\n",
              "      <td>3.6125</td>\n",
              "      <td>9.3564</td>\n",
              "      <td>591.800</td>\n",
              "      <td>163820</td>\n",
              "    </tr>\n",
              "    <tr>\n",
              "      <th>226</th>\n",
              "      <td>Australia</td>\n",
              "      <td>3.3526</td>\n",
              "      <td>8.6832</td>\n",
              "      <td>25788.215</td>\n",
              "      <td>7692024</td>\n",
              "    </tr>\n",
              "    <tr>\n",
              "      <th>227</th>\n",
              "      <td>Iceland</td>\n",
              "      <td>3.3335</td>\n",
              "      <td>8.6338</td>\n",
              "      <td>343.353</td>\n",
              "      <td>103000</td>\n",
              "    </tr>\n",
              "    <tr>\n",
              "      <th>228</th>\n",
              "      <td>Namibia</td>\n",
              "      <td>3.1338</td>\n",
              "      <td>8.1166</td>\n",
              "      <td>2587.344</td>\n",
              "      <td>825615</td>\n",
              "    </tr>\n",
              "    <tr>\n",
              "      <th>229</th>\n",
              "      <td>Western Sahara</td>\n",
              "      <td>2.3003</td>\n",
              "      <td>5.9577</td>\n",
              "      <td>611.875</td>\n",
              "      <td>266000</td>\n",
              "    </tr>\n",
              "    <tr>\n",
              "      <th>230</th>\n",
              "      <td>Mongolia</td>\n",
              "      <td>2.1286</td>\n",
              "      <td>5.5129</td>\n",
              "      <td>3329.289</td>\n",
              "      <td>1564110</td>\n",
              "    </tr>\n",
              "    <tr>\n",
              "      <th>231</th>\n",
              "      <td>Falkland Islands</td>\n",
              "      <td>0.2902</td>\n",
              "      <td>0.7517</td>\n",
              "      <td>3.533</td>\n",
              "      <td>12173</td>\n",
              "    </tr>\n",
              "    <tr>\n",
              "      <th>232</th>\n",
              "      <td>Greenland</td>\n",
              "      <td>0.0263</td>\n",
              "      <td>0.0680</td>\n",
              "      <td>56.877</td>\n",
              "      <td>2166086</td>\n",
              "    </tr>\n",
              "  </tbody>\n",
              "</table>\n",
              "</div>"
            ],
            "text/plain": [
              "                davlat  zichlik-km  zichlik_mi      aholi  maydoni\n",
              "rank                                                              \n",
              "223             Guyana      3.6765      9.5220    790.326   214969\n",
              "224      French Guiana      3.6685      9.5015    306.448    83534\n",
              "225           Suriname      3.6125      9.3564    591.800   163820\n",
              "226          Australia      3.3526      8.6832  25788.215  7692024\n",
              "227            Iceland      3.3335      8.6338    343.353   103000\n",
              "228            Namibia      3.1338      8.1166   2587.344   825615\n",
              "229     Western Sahara      2.3003      5.9577    611.875   266000\n",
              "230           Mongolia      2.1286      5.5129   3329.289  1564110\n",
              "231   Falkland Islands      0.2902      0.7517      3.533    12173\n",
              "232          Greenland      0.0263      0.0680     56.877  2166086"
            ]
          },
          "execution_count": 5,
          "metadata": {},
          "output_type": "execute_result"
        }
      ],
      "source": [
        "# JAVOBNI SHUYERGA YOZING\n",
        "df.tail(10)"
      ]
    },
    {
      "cell_type": "code",
      "execution_count": 50,
      "id": "42178ef5",
      "metadata": {},
      "outputs": [
        {
          "data": {
            "text/html": [
              "<div>\n",
              "<style scoped>\n",
              "    .dataframe tbody tr th:only-of-type {\n",
              "        vertical-align: middle;\n",
              "    }\n",
              "\n",
              "    .dataframe tbody tr th {\n",
              "        vertical-align: top;\n",
              "    }\n",
              "\n",
              "    .dataframe thead th {\n",
              "        text-align: right;\n",
              "    }\n",
              "</style>\n",
              "<table border=\"1\" class=\"dataframe\">\n",
              "  <thead>\n",
              "    <tr style=\"text-align: right;\">\n",
              "      <th></th>\n",
              "      <th>davlat</th>\n",
              "      <th>zichlik-km</th>\n",
              "      <th>zichlik_mi</th>\n",
              "      <th>aholi</th>\n",
              "      <th>maydoni</th>\n",
              "    </tr>\n",
              "    <tr>\n",
              "      <th>rank</th>\n",
              "      <th></th>\n",
              "      <th></th>\n",
              "      <th></th>\n",
              "      <th></th>\n",
              "      <th></th>\n",
              "    </tr>\n",
              "  </thead>\n",
              "  <tbody>\n",
              "    <tr>\n",
              "      <th>1</th>\n",
              "      <td>Macau</td>\n",
              "      <td>21946.4667</td>\n",
              "      <td>56841.3487</td>\n",
              "      <td>658.394</td>\n",
              "      <td>30</td>\n",
              "    </tr>\n",
              "    <tr>\n",
              "      <th>2</th>\n",
              "      <td>Monaco</td>\n",
              "      <td>19755.5000</td>\n",
              "      <td>51166.7450</td>\n",
              "      <td>39.511</td>\n",
              "      <td>2</td>\n",
              "    </tr>\n",
              "    <tr>\n",
              "      <th>3</th>\n",
              "      <td>Singapore</td>\n",
              "      <td>8305.1915</td>\n",
              "      <td>21510.4461</td>\n",
              "      <td>5896.686</td>\n",
              "      <td>710</td>\n",
              "    </tr>\n",
              "    <tr>\n",
              "      <th>4</th>\n",
              "      <td>Hong Kong</td>\n",
              "      <td>6841.3134</td>\n",
              "      <td>17719.0017</td>\n",
              "      <td>7552.810</td>\n",
              "      <td>1104</td>\n",
              "    </tr>\n",
              "    <tr>\n",
              "      <th>5</th>\n",
              "      <td>Gibraltar</td>\n",
              "      <td>5616.3333</td>\n",
              "      <td>14546.3033</td>\n",
              "      <td>33.698</td>\n",
              "      <td>6</td>\n",
              "    </tr>\n",
              "    <tr>\n",
              "      <th>6</th>\n",
              "      <td>Bahrain</td>\n",
              "      <td>2285.3542</td>\n",
              "      <td>5919.0675</td>\n",
              "      <td>1748.296</td>\n",
              "      <td>765</td>\n",
              "    </tr>\n",
              "    <tr>\n",
              "      <th>7</th>\n",
              "      <td>Maldives</td>\n",
              "      <td>1812.0567</td>\n",
              "      <td>4693.2268</td>\n",
              "      <td>543.617</td>\n",
              "      <td>300</td>\n",
              "    </tr>\n",
              "    <tr>\n",
              "      <th>8</th>\n",
              "      <td>Malta</td>\n",
              "      <td>1401.2152</td>\n",
              "      <td>3629.1473</td>\n",
              "      <td>442.784</td>\n",
              "      <td>316</td>\n",
              "    </tr>\n",
              "    <tr>\n",
              "      <th>9</th>\n",
              "      <td>Sint Maarten</td>\n",
              "      <td>1276.8235</td>\n",
              "      <td>3306.9729</td>\n",
              "      <td>43.412</td>\n",
              "      <td>34</td>\n",
              "    </tr>\n",
              "    <tr>\n",
              "      <th>10</th>\n",
              "      <td>Bermuda</td>\n",
              "      <td>1149.8148</td>\n",
              "      <td>2978.0204</td>\n",
              "      <td>62.090</td>\n",
              "      <td>54</td>\n",
              "    </tr>\n",
              "  </tbody>\n",
              "</table>\n",
              "</div>"
            ],
            "text/plain": [
              "            davlat  zichlik-km  zichlik_mi     aholi  maydoni\n",
              "rank                                                         \n",
              "1            Macau  21946.4667  56841.3487   658.394       30\n",
              "2           Monaco  19755.5000  51166.7450    39.511        2\n",
              "3        Singapore   8305.1915  21510.4461  5896.686      710\n",
              "4        Hong Kong   6841.3134  17719.0017  7552.810     1104\n",
              "5        Gibraltar   5616.3333  14546.3033    33.698        6\n",
              "6          Bahrain   2285.3542   5919.0675  1748.296      765\n",
              "7         Maldives   1812.0567   4693.2268   543.617      300\n",
              "8            Malta   1401.2152   3629.1473   442.784      316\n",
              "9     Sint Maarten   1276.8235   3306.9729    43.412       34\n",
              "10         Bermuda   1149.8148   2978.0204    62.090       54"
            ]
          },
          "execution_count": 50,
          "metadata": {},
          "output_type": "execute_result"
        }
      ],
      "source": [
        "df.head(10)"
      ]
    },
    {
      "cell_type": "markdown",
      "id": "j7eE78e0-0QR",
      "metadata": {
        "id": "j7eE78e0-0QR"
      },
      "source": [
        "### 3-VAZIFA. DF dan 10, 20, 100, 200-indekslarda turgan davlatlarni alohida DF ko'rinishida chiqaring."
      ]
    },
    {
      "cell_type": "code",
      "execution_count": 46,
      "id": "e6oOFKypt7W-",
      "metadata": {
        "id": "e6oOFKypt7W-"
      },
      "outputs": [
        {
          "data": {
            "text/html": [
              "<div>\n",
              "<style scoped>\n",
              "    .dataframe tbody tr th:only-of-type {\n",
              "        vertical-align: middle;\n",
              "    }\n",
              "\n",
              "    .dataframe tbody tr th {\n",
              "        vertical-align: top;\n",
              "    }\n",
              "\n",
              "    .dataframe thead th {\n",
              "        text-align: right;\n",
              "    }\n",
              "</style>\n",
              "<table border=\"1\" class=\"dataframe\">\n",
              "  <thead>\n",
              "    <tr style=\"text-align: right;\">\n",
              "      <th></th>\n",
              "      <th>davlat</th>\n",
              "      <th>zichlik-km</th>\n",
              "      <th>zichlik_mi</th>\n",
              "      <th>aholi</th>\n",
              "      <th>maydoni</th>\n",
              "    </tr>\n",
              "    <tr>\n",
              "      <th>rank</th>\n",
              "      <th></th>\n",
              "      <th></th>\n",
              "      <th></th>\n",
              "      <th></th>\n",
              "      <th></th>\n",
              "    </tr>\n",
              "  </thead>\n",
              "  <tbody>\n",
              "    <tr>\n",
              "      <th>20</th>\n",
              "      <td>Aruba</td>\n",
              "      <td>595.5778</td>\n",
              "      <td>1542.5464</td>\n",
              "      <td>107.204</td>\n",
              "      <td>180</td>\n",
              "    </tr>\n",
              "  </tbody>\n",
              "</table>\n",
              "</div>"
            ],
            "text/plain": [
              "     davlat  zichlik-km  zichlik_mi    aholi  maydoni\n",
              "rank                                                 \n",
              "20    Aruba    595.5778   1542.5464  107.204      180"
            ]
          },
          "execution_count": 46,
          "metadata": {},
          "output_type": "execute_result"
        }
      ],
      "source": [
        "# JAVOBNI SHUYERGA YOZING\n",
        "df.iloc[[19]]"
      ]
    },
    {
      "cell_type": "code",
      "execution_count": 47,
      "id": "7f9f7f9b",
      "metadata": {},
      "outputs": [
        {
          "data": {
            "text/html": [
              "<div>\n",
              "<style scoped>\n",
              "    .dataframe tbody tr th:only-of-type {\n",
              "        vertical-align: middle;\n",
              "    }\n",
              "\n",
              "    .dataframe tbody tr th {\n",
              "        vertical-align: top;\n",
              "    }\n",
              "\n",
              "    .dataframe thead th {\n",
              "        text-align: right;\n",
              "    }\n",
              "</style>\n",
              "<table border=\"1\" class=\"dataframe\">\n",
              "  <thead>\n",
              "    <tr style=\"text-align: right;\">\n",
              "      <th></th>\n",
              "      <th>davlat</th>\n",
              "      <th>zichlik-km</th>\n",
              "      <th>zichlik_mi</th>\n",
              "      <th>aholi</th>\n",
              "      <th>maydoni</th>\n",
              "    </tr>\n",
              "    <tr>\n",
              "      <th>rank</th>\n",
              "      <th></th>\n",
              "      <th></th>\n",
              "      <th></th>\n",
              "      <th></th>\n",
              "      <th></th>\n",
              "    </tr>\n",
              "  </thead>\n",
              "  <tbody>\n",
              "    <tr>\n",
              "      <th>10</th>\n",
              "      <td>Bermuda</td>\n",
              "      <td>1149.8148</td>\n",
              "      <td>2978.0204</td>\n",
              "      <td>62.09</td>\n",
              "      <td>54</td>\n",
              "    </tr>\n",
              "  </tbody>\n",
              "</table>\n",
              "</div>"
            ],
            "text/plain": [
              "       davlat  zichlik-km  zichlik_mi  aholi  maydoni\n",
              "rank                                                 \n",
              "10    Bermuda   1149.8148   2978.0204  62.09       54"
            ]
          },
          "execution_count": 47,
          "metadata": {},
          "output_type": "execute_result"
        }
      ],
      "source": [
        "df.iloc[[9]]"
      ]
    },
    {
      "cell_type": "code",
      "execution_count": 48,
      "id": "18877ba8",
      "metadata": {},
      "outputs": [
        {
          "data": {
            "text/html": [
              "<div>\n",
              "<style scoped>\n",
              "    .dataframe tbody tr th:only-of-type {\n",
              "        vertical-align: middle;\n",
              "    }\n",
              "\n",
              "    .dataframe tbody tr th {\n",
              "        vertical-align: top;\n",
              "    }\n",
              "\n",
              "    .dataframe thead th {\n",
              "        text-align: right;\n",
              "    }\n",
              "</style>\n",
              "<table border=\"1\" class=\"dataframe\">\n",
              "  <thead>\n",
              "    <tr style=\"text-align: right;\">\n",
              "      <th></th>\n",
              "      <th>davlat</th>\n",
              "      <th>zichlik-km</th>\n",
              "      <th>zichlik_mi</th>\n",
              "      <th>aholi</th>\n",
              "      <th>maydoni</th>\n",
              "    </tr>\n",
              "    <tr>\n",
              "      <th>rank</th>\n",
              "      <th></th>\n",
              "      <th></th>\n",
              "      <th></th>\n",
              "      <th></th>\n",
              "      <th></th>\n",
              "    </tr>\n",
              "  </thead>\n",
              "  <tbody>\n",
              "    <tr>\n",
              "      <th>100</th>\n",
              "      <td>Slovakia</td>\n",
              "      <td>111.3592</td>\n",
              "      <td>288.4203</td>\n",
              "      <td>5460.721</td>\n",
              "      <td>49037</td>\n",
              "    </tr>\n",
              "  </tbody>\n",
              "</table>\n",
              "</div>"
            ],
            "text/plain": [
              "        davlat  zichlik-km  zichlik_mi     aholi  maydoni\n",
              "rank                                                     \n",
              "100   Slovakia    111.3592    288.4203  5460.721    49037"
            ]
          },
          "execution_count": 48,
          "metadata": {},
          "output_type": "execute_result"
        }
      ],
      "source": [
        "df.iloc[[99]]"
      ]
    },
    {
      "cell_type": "code",
      "execution_count": 49,
      "id": "b688a136",
      "metadata": {},
      "outputs": [
        {
          "data": {
            "text/html": [
              "<div>\n",
              "<style scoped>\n",
              "    .dataframe tbody tr th:only-of-type {\n",
              "        vertical-align: middle;\n",
              "    }\n",
              "\n",
              "    .dataframe tbody tr th {\n",
              "        vertical-align: top;\n",
              "    }\n",
              "\n",
              "    .dataframe thead th {\n",
              "        text-align: right;\n",
              "    }\n",
              "</style>\n",
              "<table border=\"1\" class=\"dataframe\">\n",
              "  <thead>\n",
              "    <tr style=\"text-align: right;\">\n",
              "      <th></th>\n",
              "      <th>davlat</th>\n",
              "      <th>zichlik-km</th>\n",
              "      <th>zichlik_mi</th>\n",
              "      <th>aholi</th>\n",
              "      <th>maydoni</th>\n",
              "    </tr>\n",
              "    <tr>\n",
              "      <th>rank</th>\n",
              "      <th></th>\n",
              "      <th></th>\n",
              "      <th></th>\n",
              "      <th></th>\n",
              "      <th></th>\n",
              "    </tr>\n",
              "  </thead>\n",
              "  <tbody>\n",
              "    <tr>\n",
              "      <th>200</th>\n",
              "      <td>New Zealand</td>\n",
              "      <td>17.9713</td>\n",
              "      <td>46.5457</td>\n",
              "      <td>4860.643</td>\n",
              "      <td>270467</td>\n",
              "    </tr>\n",
              "  </tbody>\n",
              "</table>\n",
              "</div>"
            ],
            "text/plain": [
              "           davlat  zichlik-km  zichlik_mi     aholi  maydoni\n",
              "rank                                                        \n",
              "200   New Zealand     17.9713     46.5457  4860.643   270467"
            ]
          },
          "execution_count": 49,
          "metadata": {},
          "output_type": "execute_result"
        }
      ],
      "source": [
        "df.iloc[[199]]"
      ]
    },
    {
      "cell_type": "markdown",
      "id": "-4lcfYxJB6iM",
      "metadata": {
        "id": "-4lcfYxJB6iM"
      },
      "source": [
        "### 4-VAZIFA. Davlatlar orasida `Uzbekistan`, `Hong-Kong`, `Antartica` borligini tekshiring"
      ]
    },
    {
      "cell_type": "code",
      "execution_count": 7,
      "id": "dHOCUSlx_r1w",
      "metadata": {
        "id": "dHOCUSlx_r1w"
      },
      "outputs": [
        {
          "data": {
            "text/plain": [
              "True"
            ]
          },
          "execution_count": 7,
          "metadata": {},
          "output_type": "execute_result"
        }
      ],
      "source": [
        "# JAVOBNI SHUYERGA YOZING\n",
        "'Uzbekistan' in df['davlat'].values"
      ]
    },
    {
      "cell_type": "code",
      "execution_count": 8,
      "id": "20d2ff4d",
      "metadata": {},
      "outputs": [
        {
          "data": {
            "text/plain": [
              "False"
            ]
          },
          "execution_count": 8,
          "metadata": {},
          "output_type": "execute_result"
        }
      ],
      "source": [
        "'Hong-Kong' in df['davlat'].values"
      ]
    },
    {
      "cell_type": "code",
      "execution_count": 9,
      "id": "115624ec",
      "metadata": {},
      "outputs": [
        {
          "data": {
            "text/plain": [
              "False"
            ]
          },
          "execution_count": 9,
          "metadata": {},
          "output_type": "execute_result"
        }
      ],
      "source": [
        "'Antartica'  in df['davlat'].values"
      ]
    },
    {
      "cell_type": "markdown",
      "id": "3AkPYoQbGavc",
      "metadata": {
        "id": "3AkPYoQbGavc"
      },
      "source": [
        "### 5-VAZIFA.\n",
        "#### 5.1 DFning `davlat` nomli ustunini uning indeksi qilib belgilang.\n",
        "#### 5.2 `davlat` ustunini tashlab yuboring.\n",
        "#### 5.3 DFni davlat nomi bo'yicha tartiblang"
      ]
    },
    {
      "cell_type": "code",
      "execution_count": 54,
      "id": "pqgh3X3UGthA",
      "metadata": {
        "id": "pqgh3X3UGthA"
      },
      "outputs": [],
      "source": [
        "# JAVOBNI SHUYERGA YOZING\n",
        "df = df.set_index(\"davlat\")"
      ]
    },
    {
      "cell_type": "code",
      "execution_count": 55,
      "id": "PVYvoGlOGvAS",
      "metadata": {
        "cellView": "form",
        "colab": {
          "base_uri": "https://localhost:8080/",
          "height": 235
        },
        "id": "PVYvoGlOGvAS",
        "outputId": "94e594a4-a516-4083-bfda-df86c797589c"
      },
      "outputs": [
        {
          "data": {
            "text/html": [
              "<div>\n",
              "<style scoped>\n",
              "    .dataframe tbody tr th:only-of-type {\n",
              "        vertical-align: middle;\n",
              "    }\n",
              "\n",
              "    .dataframe tbody tr th {\n",
              "        vertical-align: top;\n",
              "    }\n",
              "\n",
              "    .dataframe thead th {\n",
              "        text-align: right;\n",
              "    }\n",
              "</style>\n",
              "<table border=\"1\" class=\"dataframe\">\n",
              "  <thead>\n",
              "    <tr style=\"text-align: right;\">\n",
              "      <th></th>\n",
              "      <th>zichlik-km</th>\n",
              "      <th>zichlik_mi</th>\n",
              "      <th>aholi</th>\n",
              "      <th>maydoni</th>\n",
              "    </tr>\n",
              "    <tr>\n",
              "      <th>davlat</th>\n",
              "      <th></th>\n",
              "      <th></th>\n",
              "      <th></th>\n",
              "      <th></th>\n",
              "    </tr>\n",
              "  </thead>\n",
              "  <tbody>\n",
              "    <tr>\n",
              "      <th>Macau</th>\n",
              "      <td>21946.4667</td>\n",
              "      <td>56841.3487</td>\n",
              "      <td>658.394</td>\n",
              "      <td>30</td>\n",
              "    </tr>\n",
              "    <tr>\n",
              "      <th>Monaco</th>\n",
              "      <td>19755.5000</td>\n",
              "      <td>51166.7450</td>\n",
              "      <td>39.511</td>\n",
              "      <td>2</td>\n",
              "    </tr>\n",
              "    <tr>\n",
              "      <th>Singapore</th>\n",
              "      <td>8305.1915</td>\n",
              "      <td>21510.4461</td>\n",
              "      <td>5896.686</td>\n",
              "      <td>710</td>\n",
              "    </tr>\n",
              "    <tr>\n",
              "      <th>Hong Kong</th>\n",
              "      <td>6841.3134</td>\n",
              "      <td>17719.0017</td>\n",
              "      <td>7552.810</td>\n",
              "      <td>1104</td>\n",
              "    </tr>\n",
              "    <tr>\n",
              "      <th>Gibraltar</th>\n",
              "      <td>5616.3333</td>\n",
              "      <td>14546.3033</td>\n",
              "      <td>33.698</td>\n",
              "      <td>6</td>\n",
              "    </tr>\n",
              "    <tr>\n",
              "      <th>...</th>\n",
              "      <td>...</td>\n",
              "      <td>...</td>\n",
              "      <td>...</td>\n",
              "      <td>...</td>\n",
              "    </tr>\n",
              "    <tr>\n",
              "      <th>Namibia</th>\n",
              "      <td>3.1338</td>\n",
              "      <td>8.1166</td>\n",
              "      <td>2587.344</td>\n",
              "      <td>825615</td>\n",
              "    </tr>\n",
              "    <tr>\n",
              "      <th>Western Sahara</th>\n",
              "      <td>2.3003</td>\n",
              "      <td>5.9577</td>\n",
              "      <td>611.875</td>\n",
              "      <td>266000</td>\n",
              "    </tr>\n",
              "    <tr>\n",
              "      <th>Mongolia</th>\n",
              "      <td>2.1286</td>\n",
              "      <td>5.5129</td>\n",
              "      <td>3329.289</td>\n",
              "      <td>1564110</td>\n",
              "    </tr>\n",
              "    <tr>\n",
              "      <th>Falkland Islands</th>\n",
              "      <td>0.2902</td>\n",
              "      <td>0.7517</td>\n",
              "      <td>3.533</td>\n",
              "      <td>12173</td>\n",
              "    </tr>\n",
              "    <tr>\n",
              "      <th>Greenland</th>\n",
              "      <td>0.0263</td>\n",
              "      <td>0.0680</td>\n",
              "      <td>56.877</td>\n",
              "      <td>2166086</td>\n",
              "    </tr>\n",
              "  </tbody>\n",
              "</table>\n",
              "<p>232 rows × 4 columns</p>\n",
              "</div>"
            ],
            "text/plain": [
              "                  zichlik-km  zichlik_mi     aholi  maydoni\n",
              "davlat                                                     \n",
              "Macau             21946.4667  56841.3487   658.394       30\n",
              "Monaco            19755.5000  51166.7450    39.511        2\n",
              "Singapore          8305.1915  21510.4461  5896.686      710\n",
              "Hong Kong          6841.3134  17719.0017  7552.810     1104\n",
              "Gibraltar          5616.3333  14546.3033    33.698        6\n",
              "...                      ...         ...       ...      ...\n",
              "Namibia               3.1338      8.1166  2587.344   825615\n",
              "Western Sahara        2.3003      5.9577   611.875   266000\n",
              "Mongolia              2.1286      5.5129  3329.289  1564110\n",
              "Falkland Islands      0.2902      0.7517     3.533    12173\n",
              "Greenland             0.0263      0.0680    56.877  2166086\n",
              "\n",
              "[232 rows x 4 columns]"
            ]
          },
          "execution_count": 55,
          "metadata": {},
          "output_type": "execute_result"
        }
      ],
      "source": [
        "#@title Kutilayotgan natija\n",
        "df"
      ]
    },
    {
      "cell_type": "code",
      "execution_count": 56,
      "id": "875a9e81",
      "metadata": {},
      "outputs": [
        {
          "data": {
            "text/html": [
              "<div>\n",
              "<style scoped>\n",
              "    .dataframe tbody tr th:only-of-type {\n",
              "        vertical-align: middle;\n",
              "    }\n",
              "\n",
              "    .dataframe tbody tr th {\n",
              "        vertical-align: top;\n",
              "    }\n",
              "\n",
              "    .dataframe thead th {\n",
              "        text-align: right;\n",
              "    }\n",
              "</style>\n",
              "<table border=\"1\" class=\"dataframe\">\n",
              "  <thead>\n",
              "    <tr style=\"text-align: right;\">\n",
              "      <th></th>\n",
              "      <th>zichlik-km</th>\n",
              "      <th>zichlik_mi</th>\n",
              "      <th>aholi</th>\n",
              "      <th>maydoni</th>\n",
              "    </tr>\n",
              "    <tr>\n",
              "      <th>davlat</th>\n",
              "      <th></th>\n",
              "      <th></th>\n",
              "      <th></th>\n",
              "      <th></th>\n",
              "    </tr>\n",
              "  </thead>\n",
              "  <tbody>\n",
              "    <tr>\n",
              "      <th>Afghanistan</th>\n",
              "      <td>61.0757</td>\n",
              "      <td>158.1862</td>\n",
              "      <td>39835.428</td>\n",
              "      <td>652230</td>\n",
              "    </tr>\n",
              "    <tr>\n",
              "      <th>Albania</th>\n",
              "      <td>99.9351</td>\n",
              "      <td>258.8318</td>\n",
              "      <td>2872.933</td>\n",
              "      <td>28748</td>\n",
              "    </tr>\n",
              "    <tr>\n",
              "      <th>Algeria</th>\n",
              "      <td>18.7328</td>\n",
              "      <td>48.5179</td>\n",
              "      <td>44616.624</td>\n",
              "      <td>2381741</td>\n",
              "    </tr>\n",
              "    <tr>\n",
              "      <th>American Samoa</th>\n",
              "      <td>276.8844</td>\n",
              "      <td>717.1307</td>\n",
              "      <td>55.100</td>\n",
              "      <td>199</td>\n",
              "    </tr>\n",
              "    <tr>\n",
              "      <th>Andorra</th>\n",
              "      <td>165.2885</td>\n",
              "      <td>428.0971</td>\n",
              "      <td>77.355</td>\n",
              "      <td>468</td>\n",
              "    </tr>\n",
              "    <tr>\n",
              "      <th>...</th>\n",
              "      <td>...</td>\n",
              "      <td>...</td>\n",
              "      <td>...</td>\n",
              "      <td>...</td>\n",
              "    </tr>\n",
              "    <tr>\n",
              "      <th>Wallis and Futuna</th>\n",
              "      <td>78.1268</td>\n",
              "      <td>202.3483</td>\n",
              "      <td>11.094</td>\n",
              "      <td>142</td>\n",
              "    </tr>\n",
              "    <tr>\n",
              "      <th>Western Sahara</th>\n",
              "      <td>2.3003</td>\n",
              "      <td>5.9577</td>\n",
              "      <td>611.875</td>\n",
              "      <td>266000</td>\n",
              "    </tr>\n",
              "    <tr>\n",
              "      <th>Yemen</th>\n",
              "      <td>57.7509</td>\n",
              "      <td>149.5749</td>\n",
              "      <td>30490.640</td>\n",
              "      <td>527968</td>\n",
              "    </tr>\n",
              "    <tr>\n",
              "      <th>Zambia</th>\n",
              "      <td>25.1400</td>\n",
              "      <td>65.1125</td>\n",
              "      <td>18920.651</td>\n",
              "      <td>752612</td>\n",
              "    </tr>\n",
              "    <tr>\n",
              "      <th>Zimbabwe</th>\n",
              "      <td>38.6229</td>\n",
              "      <td>100.0333</td>\n",
              "      <td>15092.171</td>\n",
              "      <td>390757</td>\n",
              "    </tr>\n",
              "  </tbody>\n",
              "</table>\n",
              "<p>232 rows × 4 columns</p>\n",
              "</div>"
            ],
            "text/plain": [
              "                   zichlik-km  zichlik_mi      aholi  maydoni\n",
              "davlat                                                       \n",
              "Afghanistan           61.0757    158.1862  39835.428   652230\n",
              "Albania               99.9351    258.8318   2872.933    28748\n",
              "Algeria               18.7328     48.5179  44616.624  2381741\n",
              "American Samoa       276.8844    717.1307     55.100      199\n",
              "Andorra              165.2885    428.0971     77.355      468\n",
              "...                       ...         ...        ...      ...\n",
              "Wallis and Futuna     78.1268    202.3483     11.094      142\n",
              "Western Sahara         2.3003      5.9577    611.875   266000\n",
              "Yemen                 57.7509    149.5749  30490.640   527968\n",
              "Zambia                25.1400     65.1125  18920.651   752612\n",
              "Zimbabwe              38.6229    100.0333  15092.171   390757\n",
              "\n",
              "[232 rows x 4 columns]"
            ]
          },
          "execution_count": 56,
          "metadata": {},
          "output_type": "execute_result"
        }
      ],
      "source": [
        "df.sort_index()"
      ]
    },
    {
      "cell_type": "markdown",
      "id": "WQgxUhHVI-sT",
      "metadata": {
        "id": "WQgxUhHVI-sT"
      },
      "source": [
        "### 6-VAZIFA. DF dan `Uzbekistan`, `Malaysia`, `South Korea`, `France` davlatlari `aholi` va `maydoni` ustunlari bilan alohida DF ko'rinishida ajratib oling."
      ]
    },
    {
      "cell_type": "code",
      "execution_count": 59,
      "id": "5f69cbe3",
      "metadata": {},
      "outputs": [
        {
          "data": {
            "text/plain": [
              "Index(['Macau', 'Monaco', 'Singapore', 'Hong Kong', 'Gibraltar', 'Bahrain',\n",
              "       'Maldives', 'Malta', 'Sint Maarten', 'Bermuda',\n",
              "       ...\n",
              "       'Guyana', 'French Guiana', 'Suriname', 'Australia', 'Iceland',\n",
              "       'Namibia', 'Western Sahara', 'Mongolia', 'Falkland Islands',\n",
              "       'Greenland'],\n",
              "      dtype='object', name='davlat', length=232)"
            ]
          },
          "execution_count": 59,
          "metadata": {},
          "output_type": "execute_result"
        }
      ],
      "source": [
        "df.index"
      ]
    },
    {
      "cell_type": "code",
      "execution_count": 62,
      "id": "CA_UMXWSJf8T",
      "metadata": {
        "id": "CA_UMXWSJf8T"
      },
      "outputs": [
        {
          "data": {
            "text/html": [
              "<div>\n",
              "<style scoped>\n",
              "    .dataframe tbody tr th:only-of-type {\n",
              "        vertical-align: middle;\n",
              "    }\n",
              "\n",
              "    .dataframe tbody tr th {\n",
              "        vertical-align: top;\n",
              "    }\n",
              "\n",
              "    .dataframe thead th {\n",
              "        text-align: right;\n",
              "    }\n",
              "</style>\n",
              "<table border=\"1\" class=\"dataframe\">\n",
              "  <thead>\n",
              "    <tr style=\"text-align: right;\">\n",
              "      <th></th>\n",
              "      <th>aholi</th>\n",
              "      <th>maydoni</th>\n",
              "    </tr>\n",
              "    <tr>\n",
              "      <th>davlat</th>\n",
              "      <th></th>\n",
              "      <th></th>\n",
              "    </tr>\n",
              "  </thead>\n",
              "  <tbody>\n",
              "    <tr>\n",
              "      <th>South Korea</th>\n",
              "      <td>51305.186</td>\n",
              "      <td>100210</td>\n",
              "    </tr>\n",
              "    <tr>\n",
              "      <th>France</th>\n",
              "      <td>65426.179</td>\n",
              "      <td>551695</td>\n",
              "    </tr>\n",
              "    <tr>\n",
              "      <th>Malaysia</th>\n",
              "      <td>32776.194</td>\n",
              "      <td>330803</td>\n",
              "    </tr>\n",
              "    <tr>\n",
              "      <th>Uzbekistan</th>\n",
              "      <td>33935.763</td>\n",
              "      <td>447400</td>\n",
              "    </tr>\n",
              "  </tbody>\n",
              "</table>\n",
              "</div>"
            ],
            "text/plain": [
              "                 aholi  maydoni\n",
              "davlat                         \n",
              "South Korea  51305.186   100210\n",
              "France       65426.179   551695\n",
              "Malaysia     32776.194   330803\n",
              "Uzbekistan   33935.763   447400"
            ]
          },
          "execution_count": 62,
          "metadata": {},
          "output_type": "execute_result"
        }
      ],
      "source": [
        "# JAVOBNI SHUYERGA YOZING\n",
        "umsf = df[((df.index == 'Uzbekistan') | (df.index == 'Malaysia') | (df.index == 'South Korea')  |  (df.index == 'France'))][['aholi', 'maydoni']]\n",
        "umsf"
      ]
    },
    {
      "cell_type": "code",
      "execution_count": null,
      "id": "qOUaHp9BKCRm",
      "metadata": {
        "cellView": "form",
        "colab": {
          "base_uri": "https://localhost:8080/",
          "height": 204
        },
        "id": "qOUaHp9BKCRm",
        "outputId": "aed34971-6c32-488d-e41e-284389c46dde"
      },
      "outputs": [
        {
          "data": {
            "text/html": [
              "<div>\n",
              "<style scoped>\n",
              "    .dataframe tbody tr th:only-of-type {\n",
              "        vertical-align: middle;\n",
              "    }\n",
              "\n",
              "    .dataframe tbody tr th {\n",
              "        vertical-align: top;\n",
              "    }\n",
              "\n",
              "    .dataframe thead th {\n",
              "        text-align: right;\n",
              "    }\n",
              "</style>\n",
              "<table border=\"1\" class=\"dataframe\">\n",
              "  <thead>\n",
              "    <tr style=\"text-align: right;\">\n",
              "      <th></th>\n",
              "      <th>aholi</th>\n",
              "      <th>maydoni</th>\n",
              "    </tr>\n",
              "    <tr>\n",
              "      <th>davlat</th>\n",
              "      <th></th>\n",
              "      <th></th>\n",
              "    </tr>\n",
              "  </thead>\n",
              "  <tbody>\n",
              "    <tr>\n",
              "      <th>Singapore</th>\n",
              "      <td>5896.686</td>\n",
              "      <td>710</td>\n",
              "    </tr>\n",
              "    <tr>\n",
              "      <th>North Korea</th>\n",
              "      <td>25887.041</td>\n",
              "      <td>120538</td>\n",
              "    </tr>\n",
              "    <tr>\n",
              "      <th>Germany</th>\n",
              "      <td>83900.473</td>\n",
              "      <td>357114</td>\n",
              "    </tr>\n",
              "    <tr>\n",
              "      <th>Kazakhstan</th>\n",
              "      <td>18994.962</td>\n",
              "      <td>2724900</td>\n",
              "    </tr>\n",
              "  </tbody>\n",
              "</table>\n",
              "</div>"
            ],
            "text/plain": [
              "                 aholi  maydoni\n",
              "davlat                         \n",
              "Singapore     5896.686      710\n",
              "North Korea  25887.041   120538\n",
              "Germany      83900.473   357114\n",
              "Kazakhstan   18994.962  2724900"
            ]
          },
          "execution_count": 60,
          "metadata": {},
          "output_type": "execute_result"
        }
      ],
      "source": [
        "#@title O'xshash natija (boshqa davlatlar uchun)"
      ]
    },
    {
      "cell_type": "markdown",
      "id": "MD9cG-oGMUXl",
      "metadata": {
        "id": "MD9cG-oGMUXl"
      },
      "source": [
        "### 7-VAZIFA. Asl DFning `aholi` ustuni qiymatlarini 1000 ga ko'paytiring."
      ]
    },
    {
      "cell_type": "code",
      "execution_count": null,
      "id": "AWNqbnGgKZtH",
      "metadata": {
        "id": "AWNqbnGgKZtH"
      },
      "outputs": [],
      "source": [
        "# JAVOBNI SHUYERGA YOZING\n",
        "df = df['aholi'] * 1000"
      ]
    },
    {
      "cell_type": "code",
      "execution_count": null,
      "id": "7NtDk90HNFOE",
      "metadata": {
        "cellView": "form",
        "colab": {
          "base_uri": "https://localhost:8080/",
          "height": 235
        },
        "id": "7NtDk90HNFOE",
        "outputId": "69f45bf0-3ed7-4806-df63-beb5d000ad58"
      },
      "outputs": [
        {
          "data": {
            "text/html": [
              "<div>\n",
              "<style scoped>\n",
              "    .dataframe tbody tr th:only-of-type {\n",
              "        vertical-align: middle;\n",
              "    }\n",
              "\n",
              "    .dataframe tbody tr th {\n",
              "        vertical-align: top;\n",
              "    }\n",
              "\n",
              "    .dataframe thead th {\n",
              "        text-align: right;\n",
              "    }\n",
              "</style>\n",
              "<table border=\"1\" class=\"dataframe\">\n",
              "  <thead>\n",
              "    <tr style=\"text-align: right;\">\n",
              "      <th></th>\n",
              "      <th>zichlik_km</th>\n",
              "      <th>zichlik_mi</th>\n",
              "      <th>aholi</th>\n",
              "      <th>maydoni</th>\n",
              "    </tr>\n",
              "    <tr>\n",
              "      <th>davlat</th>\n",
              "      <th></th>\n",
              "      <th></th>\n",
              "      <th></th>\n",
              "      <th></th>\n",
              "    </tr>\n",
              "  </thead>\n",
              "  <tbody>\n",
              "    <tr>\n",
              "      <th>Afghanistan</th>\n",
              "      <td>61.0757</td>\n",
              "      <td>158.1862</td>\n",
              "      <td>39835428.0</td>\n",
              "      <td>652230</td>\n",
              "    </tr>\n",
              "    <tr>\n",
              "      <th>Albania</th>\n",
              "      <td>99.9351</td>\n",
              "      <td>258.8318</td>\n",
              "      <td>2872933.0</td>\n",
              "      <td>28748</td>\n",
              "    </tr>\n",
              "    <tr>\n",
              "      <th>Algeria</th>\n",
              "      <td>18.7328</td>\n",
              "      <td>48.5179</td>\n",
              "      <td>44616624.0</td>\n",
              "      <td>2381741</td>\n",
              "    </tr>\n",
              "    <tr>\n",
              "      <th>American Samoa</th>\n",
              "      <td>276.8844</td>\n",
              "      <td>717.1307</td>\n",
              "      <td>55100.0</td>\n",
              "      <td>199</td>\n",
              "    </tr>\n",
              "    <tr>\n",
              "      <th>Andorra</th>\n",
              "      <td>165.2885</td>\n",
              "      <td>428.0971</td>\n",
              "      <td>77355.0</td>\n",
              "      <td>468</td>\n",
              "    </tr>\n",
              "  </tbody>\n",
              "</table>\n",
              "</div>"
            ],
            "text/plain": [
              "                zichlik_km  zichlik_mi       aholi  maydoni\n",
              "davlat                                                     \n",
              "Afghanistan        61.0757    158.1862  39835428.0   652230\n",
              "Albania            99.9351    258.8318   2872933.0    28748\n",
              "Algeria            18.7328     48.5179  44616624.0  2381741\n",
              "American Samoa    276.8844    717.1307     55100.0      199\n",
              "Andorra           165.2885    428.0971     77355.0      468"
            ]
          },
          "execution_count": 62,
          "metadata": {},
          "output_type": "execute_result"
        }
      ],
      "source": [
        "#@title Kutilgan natija\n"
      ]
    },
    {
      "cell_type": "markdown",
      "id": "Ss1Zy9g-PE9T",
      "metadata": {
        "id": "Ss1Zy9g-PE9T"
      },
      "source": [
        "DF ni `aholi` ustuni bo'yicha kamayish tartibida tahlang va aholisi eng kam 10 ta davlatni chiqaring."
      ]
    },
    {
      "cell_type": "code",
      "execution_count": null,
      "id": "PCkG4gJJPFsp",
      "metadata": {
        "id": "PCkG4gJJPFsp"
      },
      "outputs": [],
      "source": [
        "# JAVOBNI SHUYERGA YOZING\n"
      ]
    },
    {
      "cell_type": "markdown",
      "id": "Py6rMpkISr0E",
      "metadata": {
        "id": "Py6rMpkISr0E"
      },
      "source": [
        "### 8-VAZIFA. DFni `maydoni` bo'yicha reytinglang (rank) va reytinglarni yangi `rank` ustuniga yozing."
      ]
    },
    {
      "cell_type": "code",
      "execution_count": null,
      "id": "05Ku1LKIQh2c",
      "metadata": {
        "id": "05Ku1LKIQh2c"
      },
      "outputs": [],
      "source": [
        "# JAVOBNI SHUYERGA YOZING\n"
      ]
    },
    {
      "cell_type": "code",
      "execution_count": null,
      "id": "hdwtw14-S7SF",
      "metadata": {
        "cellView": "form",
        "colab": {
          "base_uri": "https://localhost:8080/",
          "height": 450
        },
        "id": "hdwtw14-S7SF",
        "outputId": "3eab62c7-cbcc-4fa0-fb4a-1aaf3032643f"
      },
      "outputs": [
        {
          "data": {
            "text/html": [
              "<div>\n",
              "<style scoped>\n",
              "    .dataframe tbody tr th:only-of-type {\n",
              "        vertical-align: middle;\n",
              "    }\n",
              "\n",
              "    .dataframe tbody tr th {\n",
              "        vertical-align: top;\n",
              "    }\n",
              "\n",
              "    .dataframe thead th {\n",
              "        text-align: right;\n",
              "    }\n",
              "</style>\n",
              "<table border=\"1\" class=\"dataframe\">\n",
              "  <thead>\n",
              "    <tr style=\"text-align: right;\">\n",
              "      <th></th>\n",
              "      <th>zichlik_km</th>\n",
              "      <th>zichlik_mi</th>\n",
              "      <th>aholi</th>\n",
              "      <th>maydoni</th>\n",
              "      <th>rank</th>\n",
              "    </tr>\n",
              "    <tr>\n",
              "      <th>davlat</th>\n",
              "      <th></th>\n",
              "      <th></th>\n",
              "      <th></th>\n",
              "      <th></th>\n",
              "      <th></th>\n",
              "    </tr>\n",
              "  </thead>\n",
              "  <tbody>\n",
              "    <tr>\n",
              "      <th>Afghanistan</th>\n",
              "      <td>61.0757</td>\n",
              "      <td>158.1862</td>\n",
              "      <td>39835428.0</td>\n",
              "      <td>652230</td>\n",
              "      <td>192.0</td>\n",
              "    </tr>\n",
              "    <tr>\n",
              "      <th>Albania</th>\n",
              "      <td>99.9351</td>\n",
              "      <td>258.8318</td>\n",
              "      <td>2872933.0</td>\n",
              "      <td>28748</td>\n",
              "      <td>89.0</td>\n",
              "    </tr>\n",
              "    <tr>\n",
              "      <th>Algeria</th>\n",
              "      <td>18.7328</td>\n",
              "      <td>48.5179</td>\n",
              "      <td>44616624.0</td>\n",
              "      <td>2381741</td>\n",
              "      <td>223.0</td>\n",
              "    </tr>\n",
              "    <tr>\n",
              "      <th>American Samoa</th>\n",
              "      <td>276.8844</td>\n",
              "      <td>717.1307</td>\n",
              "      <td>55100.0</td>\n",
              "      <td>199</td>\n",
              "      <td>20.0</td>\n",
              "    </tr>\n",
              "    <tr>\n",
              "      <th>Andorra</th>\n",
              "      <td>165.2885</td>\n",
              "      <td>428.0971</td>\n",
              "      <td>77355.0</td>\n",
              "      <td>468</td>\n",
              "      <td>38.0</td>\n",
              "    </tr>\n",
              "    <tr>\n",
              "      <th>...</th>\n",
              "      <td>...</td>\n",
              "      <td>...</td>\n",
              "      <td>...</td>\n",
              "      <td>...</td>\n",
              "      <td>...</td>\n",
              "    </tr>\n",
              "    <tr>\n",
              "      <th>Wallis and Futuna</th>\n",
              "      <td>78.1268</td>\n",
              "      <td>202.3483</td>\n",
              "      <td>11094.0</td>\n",
              "      <td>142</td>\n",
              "      <td>15.0</td>\n",
              "    </tr>\n",
              "    <tr>\n",
              "      <th>Western Sahara</th>\n",
              "      <td>2.3003</td>\n",
              "      <td>5.9577</td>\n",
              "      <td>611875.0</td>\n",
              "      <td>266000</td>\n",
              "      <td>155.0</td>\n",
              "    </tr>\n",
              "    <tr>\n",
              "      <th>Yemen</th>\n",
              "      <td>57.7509</td>\n",
              "      <td>149.5749</td>\n",
              "      <td>30490640.0</td>\n",
              "      <td>527968</td>\n",
              "      <td>183.0</td>\n",
              "    </tr>\n",
              "    <tr>\n",
              "      <th>Zambia</th>\n",
              "      <td>25.1400</td>\n",
              "      <td>65.1125</td>\n",
              "      <td>18920651.0</td>\n",
              "      <td>752612</td>\n",
              "      <td>194.0</td>\n",
              "    </tr>\n",
              "    <tr>\n",
              "      <th>Zimbabwe</th>\n",
              "      <td>38.6229</td>\n",
              "      <td>100.0333</td>\n",
              "      <td>15092171.0</td>\n",
              "      <td>390757</td>\n",
              "      <td>172.0</td>\n",
              "    </tr>\n",
              "  </tbody>\n",
              "</table>\n",
              "<p>232 rows × 5 columns</p>\n",
              "</div>"
            ],
            "text/plain": [
              "                   zichlik_km  zichlik_mi       aholi  maydoni   rank\n",
              "davlat                                                               \n",
              "Afghanistan           61.0757    158.1862  39835428.0   652230  192.0\n",
              "Albania               99.9351    258.8318   2872933.0    28748   89.0\n",
              "Algeria               18.7328     48.5179  44616624.0  2381741  223.0\n",
              "American Samoa       276.8844    717.1307     55100.0      199   20.0\n",
              "Andorra              165.2885    428.0971     77355.0      468   38.0\n",
              "...                       ...         ...         ...      ...    ...\n",
              "Wallis and Futuna     78.1268    202.3483     11094.0      142   15.0\n",
              "Western Sahara         2.3003      5.9577    611875.0   266000  155.0\n",
              "Yemen                 57.7509    149.5749  30490640.0   527968  183.0\n",
              "Zambia                25.1400     65.1125  18920651.0   752612  194.0\n",
              "Zimbabwe              38.6229    100.0333  15092171.0   390757  172.0\n",
              "\n",
              "[232 rows x 5 columns]"
            ]
          },
          "execution_count": 71,
          "metadata": {},
          "output_type": "execute_result"
        }
      ],
      "source": [
        "#@title Kutilgan natija\n"
      ]
    },
    {
      "cell_type": "markdown",
      "id": "DnKJZeduURMw",
      "metadata": {
        "id": "DnKJZeduURMw"
      },
      "source": [
        "#### `Uzbekistan`, `United Kingdom`, `Indonesia` davlatlari alohida df ko'rinishida chiqaring"
      ]
    },
    {
      "cell_type": "code",
      "execution_count": null,
      "id": "xWT62dRzTQNq",
      "metadata": {
        "id": "xWT62dRzTQNq"
      },
      "outputs": [],
      "source": [
        "# JAVOBNI SHUYERGA YOZING\n"
      ]
    },
    {
      "cell_type": "code",
      "execution_count": null,
      "id": "bh7R6A14UeKJ",
      "metadata": {
        "cellView": "form",
        "colab": {
          "base_uri": "https://localhost:8080/",
          "height": 173
        },
        "id": "bh7R6A14UeKJ",
        "outputId": "27fc0bb0-826f-4b13-9530-e4f85d6a8920"
      },
      "outputs": [
        {
          "data": {
            "text/html": [
              "<div>\n",
              "<style scoped>\n",
              "    .dataframe tbody tr th:only-of-type {\n",
              "        vertical-align: middle;\n",
              "    }\n",
              "\n",
              "    .dataframe tbody tr th {\n",
              "        vertical-align: top;\n",
              "    }\n",
              "\n",
              "    .dataframe thead th {\n",
              "        text-align: right;\n",
              "    }\n",
              "</style>\n",
              "<table border=\"1\" class=\"dataframe\">\n",
              "  <thead>\n",
              "    <tr style=\"text-align: right;\">\n",
              "      <th></th>\n",
              "      <th>zichlik_km</th>\n",
              "      <th>zichlik_mi</th>\n",
              "      <th>aholi</th>\n",
              "      <th>maydoni</th>\n",
              "      <th>rank</th>\n",
              "    </tr>\n",
              "    <tr>\n",
              "      <th>davlat</th>\n",
              "      <th></th>\n",
              "      <th></th>\n",
              "      <th></th>\n",
              "      <th></th>\n",
              "      <th></th>\n",
              "    </tr>\n",
              "  </thead>\n",
              "  <tbody>\n",
              "    <tr>\n",
              "      <th>Turkmenistan</th>\n",
              "      <td>12.5342</td>\n",
              "      <td>32.4635</td>\n",
              "      <td>6117924.0</td>\n",
              "      <td>488100</td>\n",
              "      <td>180.0</td>\n",
              "    </tr>\n",
              "    <tr>\n",
              "      <th>United States</th>\n",
              "      <td>35.5200</td>\n",
              "      <td>91.9968</td>\n",
              "      <td>332915073.0</td>\n",
              "      <td>9372610</td>\n",
              "      <td>229.0</td>\n",
              "    </tr>\n",
              "    <tr>\n",
              "      <th>Vietnam</th>\n",
              "      <td>296.3927</td>\n",
              "      <td>767.6572</td>\n",
              "      <td>98168833.0</td>\n",
              "      <td>331212</td>\n",
              "      <td>166.0</td>\n",
              "    </tr>\n",
              "  </tbody>\n",
              "</table>\n",
              "</div>"
            ],
            "text/plain": [
              "               zichlik_km  zichlik_mi        aholi  maydoni   rank\n",
              "davlat                                                            \n",
              "Turkmenistan      12.5342     32.4635    6117924.0   488100  180.0\n",
              "United States     35.5200     91.9968  332915073.0  9372610  229.0\n",
              "Vietnam          296.3927    767.6572   98168833.0   331212  166.0"
            ]
          },
          "execution_count": 84,
          "metadata": {},
          "output_type": "execute_result"
        }
      ],
      "source": [
        "#@title O'xshash natija (boshqa davlatlar uchun)\n"
      ]
    },
    {
      "cell_type": "markdown",
      "id": "Gb_fA7pkW7qo",
      "metadata": {
        "id": "Gb_fA7pkW7qo"
      },
      "source": [
        "### 9-VAZIFA. DFni `davlat` nomi bo'yicha tartiblang."
      ]
    },
    {
      "cell_type": "code",
      "execution_count": null,
      "id": "7jGiBGyKXZaZ",
      "metadata": {
        "id": "7jGiBGyKXZaZ"
      },
      "outputs": [],
      "source": [
        "# JAVOBNI SHUYERGA YOZING\n"
      ]
    },
    {
      "cell_type": "code",
      "execution_count": null,
      "id": "TLI1-RpEXbIg",
      "metadata": {
        "cellView": "form",
        "colab": {
          "base_uri": "https://localhost:8080/",
          "height": 235
        },
        "id": "TLI1-RpEXbIg",
        "outputId": "f0da8eeb-48b4-4ed4-d04c-8a89c4110aea"
      },
      "outputs": [
        {
          "data": {
            "text/html": [
              "<div>\n",
              "<style scoped>\n",
              "    .dataframe tbody tr th:only-of-type {\n",
              "        vertical-align: middle;\n",
              "    }\n",
              "\n",
              "    .dataframe tbody tr th {\n",
              "        vertical-align: top;\n",
              "    }\n",
              "\n",
              "    .dataframe thead th {\n",
              "        text-align: right;\n",
              "    }\n",
              "</style>\n",
              "<table border=\"1\" class=\"dataframe\">\n",
              "  <thead>\n",
              "    <tr style=\"text-align: right;\">\n",
              "      <th></th>\n",
              "      <th>zichlik_km</th>\n",
              "      <th>zichlik_mi</th>\n",
              "      <th>aholi</th>\n",
              "      <th>maydoni</th>\n",
              "      <th>rank</th>\n",
              "    </tr>\n",
              "    <tr>\n",
              "      <th>davlat</th>\n",
              "      <th></th>\n",
              "      <th></th>\n",
              "      <th></th>\n",
              "      <th></th>\n",
              "      <th></th>\n",
              "    </tr>\n",
              "  </thead>\n",
              "  <tbody>\n",
              "    <tr>\n",
              "      <th>Afghanistan</th>\n",
              "      <td>61.0757</td>\n",
              "      <td>158.1862</td>\n",
              "      <td>39835428.0</td>\n",
              "      <td>652230</td>\n",
              "      <td>192.0</td>\n",
              "    </tr>\n",
              "    <tr>\n",
              "      <th>Albania</th>\n",
              "      <td>99.9351</td>\n",
              "      <td>258.8318</td>\n",
              "      <td>2872933.0</td>\n",
              "      <td>28748</td>\n",
              "      <td>89.0</td>\n",
              "    </tr>\n",
              "    <tr>\n",
              "      <th>Algeria</th>\n",
              "      <td>18.7328</td>\n",
              "      <td>48.5179</td>\n",
              "      <td>44616624.0</td>\n",
              "      <td>2381741</td>\n",
              "      <td>223.0</td>\n",
              "    </tr>\n",
              "    <tr>\n",
              "      <th>American Samoa</th>\n",
              "      <td>276.8844</td>\n",
              "      <td>717.1307</td>\n",
              "      <td>55100.0</td>\n",
              "      <td>199</td>\n",
              "      <td>20.0</td>\n",
              "    </tr>\n",
              "    <tr>\n",
              "      <th>Andorra</th>\n",
              "      <td>165.2885</td>\n",
              "      <td>428.0971</td>\n",
              "      <td>77355.0</td>\n",
              "      <td>468</td>\n",
              "      <td>38.0</td>\n",
              "    </tr>\n",
              "  </tbody>\n",
              "</table>\n",
              "</div>"
            ],
            "text/plain": [
              "                zichlik_km  zichlik_mi       aholi  maydoni   rank\n",
              "davlat                                                            \n",
              "Afghanistan        61.0757    158.1862  39835428.0   652230  192.0\n",
              "Albania            99.9351    258.8318   2872933.0    28748   89.0\n",
              "Algeria            18.7328     48.5179  44616624.0  2381741  223.0\n",
              "American Samoa    276.8844    717.1307     55100.0      199   20.0\n",
              "Andorra           165.2885    428.0971     77355.0      468   38.0"
            ]
          },
          "execution_count": 88,
          "metadata": {},
          "output_type": "execute_result"
        }
      ],
      "source": [
        "#@title Kutilgan natija"
      ]
    },
    {
      "cell_type": "markdown",
      "id": "mTvs6OF9XzN7",
      "metadata": {
        "id": "mTvs6OF9XzN7"
      },
      "source": [
        "#### DFdan 10,50,100,200-o'rinda turgan davlatlarni alohida DF ko'rinishida chiqaring"
      ]
    },
    {
      "cell_type": "code",
      "execution_count": null,
      "id": "e_58EgMWXy85",
      "metadata": {
        "id": "e_58EgMWXy85"
      },
      "outputs": [],
      "source": [
        "# JAVOBNI SHUYERGA YOZING\n"
      ]
    },
    {
      "cell_type": "code",
      "execution_count": null,
      "id": "gITWVh2wXvG7",
      "metadata": {
        "cellView": "form",
        "colab": {
          "base_uri": "https://localhost:8080/",
          "height": 204
        },
        "id": "gITWVh2wXvG7",
        "outputId": "84b7edf9-feaa-40ae-c262-044c22bdc7c7"
      },
      "outputs": [
        {
          "data": {
            "text/html": [
              "<div>\n",
              "<style scoped>\n",
              "    .dataframe tbody tr th:only-of-type {\n",
              "        vertical-align: middle;\n",
              "    }\n",
              "\n",
              "    .dataframe tbody tr th {\n",
              "        vertical-align: top;\n",
              "    }\n",
              "\n",
              "    .dataframe thead th {\n",
              "        text-align: right;\n",
              "    }\n",
              "</style>\n",
              "<table border=\"1\" class=\"dataframe\">\n",
              "  <thead>\n",
              "    <tr style=\"text-align: right;\">\n",
              "      <th></th>\n",
              "      <th>zichlik_km</th>\n",
              "      <th>zichlik_mi</th>\n",
              "      <th>aholi</th>\n",
              "      <th>maydoni</th>\n",
              "      <th>rank</th>\n",
              "    </tr>\n",
              "    <tr>\n",
              "      <th>davlat</th>\n",
              "      <th></th>\n",
              "      <th></th>\n",
              "      <th></th>\n",
              "      <th></th>\n",
              "      <th></th>\n",
              "    </tr>\n",
              "  </thead>\n",
              "  <tbody>\n",
              "    <tr>\n",
              "      <th>Belize</th>\n",
              "      <td>17.6310</td>\n",
              "      <td>45.6643</td>\n",
              "      <td>404914.0</td>\n",
              "      <td>22966</td>\n",
              "      <td>82.0</td>\n",
              "    </tr>\n",
              "    <tr>\n",
              "      <th>French Polynesia</th>\n",
              "      <td>67.8018</td>\n",
              "      <td>175.6066</td>\n",
              "      <td>282530.0</td>\n",
              "      <td>4167</td>\n",
              "      <td>60.0</td>\n",
              "    </tr>\n",
              "    <tr>\n",
              "      <th>Guadeloupe</th>\n",
              "      <td>245.7125</td>\n",
              "      <td>636.3955</td>\n",
              "      <td>400020.0</td>\n",
              "      <td>1628</td>\n",
              "      <td>53.0</td>\n",
              "    </tr>\n",
              "    <tr>\n",
              "      <th>United States Virgin Islands</th>\n",
              "      <td>300.3631</td>\n",
              "      <td>777.9405</td>\n",
              "      <td>104226.0</td>\n",
              "      <td>347</td>\n",
              "      <td>29.0</td>\n",
              "    </tr>\n",
              "  </tbody>\n",
              "</table>\n",
              "</div>"
            ],
            "text/plain": [
              "                              zichlik_km  zichlik_mi     aholi  maydoni  rank\n",
              "davlat                                                                       \n",
              "Belize                           17.6310     45.6643  404914.0    22966  82.0\n",
              "French Polynesia                 67.8018    175.6066  282530.0     4167  60.0\n",
              "Guadeloupe                      245.7125    636.3955  400020.0     1628  53.0\n",
              "United States Virgin Islands    300.3631    777.9405  104226.0      347  29.0"
            ]
          },
          "execution_count": 89,
          "metadata": {},
          "output_type": "execute_result"
        }
      ],
      "source": [
        "#@title O'xshash natija (boshqa qatorlar uchun)\n"
      ]
    },
    {
      "cell_type": "markdown",
      "id": "GwMtmbecZ0CF",
      "metadata": {
        "id": "GwMtmbecZ0CF"
      },
      "source": [
        "### 10-VAZIFA. Quyidagi davlatlarning `aholi` sonini oddiy son ko'rinishida chiqaring:\n",
        "- `Malaysia`\n",
        "- `Nigeria`\n",
        "- `Nepal`\n",
        "- `Italy`"
      ]
    },
    {
      "cell_type": "code",
      "execution_count": null,
      "id": "gTnfsoLIYkkk",
      "metadata": {
        "id": "gTnfsoLIYkkk"
      },
      "outputs": [],
      "source": [
        "# JAVOBNI SHUYERGA YOZING\n"
      ]
    },
    {
      "cell_type": "code",
      "execution_count": null,
      "id": "iAxEuYYbae5s",
      "metadata": {
        "cellView": "form",
        "colab": {
          "base_uri": "https://localhost:8080/"
        },
        "id": "iAxEuYYbae5s",
        "outputId": "1db2c574-da66-4899-a8e5-410499ae2e38"
      },
      "outputs": [
        {
          "data": {
            "text/plain": [
              "33935763.0"
            ]
          },
          "execution_count": 92,
          "metadata": {},
          "output_type": "execute_result"
        }
      ],
      "source": [
        "#@title o'xshash natija (`Uzbekistan` uchun)\n"
      ]
    }
  ],
  "metadata": {
    "colab": {
      "provenance": []
    },
    "kernelspec": {
      "display_name": "Python 3",
      "language": "python",
      "name": "python3"
    },
    "language_info": {
      "codemirror_mode": {
        "name": "ipython",
        "version": 3
      },
      "file_extension": ".py",
      "mimetype": "text/x-python",
      "name": "python",
      "nbconvert_exporter": "python",
      "pygments_lexer": "ipython3",
      "version": "3.13.5"
    }
  },
  "nbformat": 4,
  "nbformat_minor": 5
}
