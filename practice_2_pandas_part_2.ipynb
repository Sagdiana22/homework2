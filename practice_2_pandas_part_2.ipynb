{
  "cells": [
    {
      "cell_type": "markdown",
      "id": "6b295cba",
      "metadata": {},
      "source": [
        "# Practice Pandas(second part)"
      ]
    },
    {
      "cell_type": "code",
      "execution_count": null,
      "id": "76ca27d8-ac49-45aa-9c42-14709d502433",
      "metadata": {
        "id": "76ca27d8-ac49-45aa-9c42-14709d502433"
      },
      "outputs": [],
      "source": [
        "import pandas as pd\n",
        "import numpy as np"
      ]
    },
    {
      "cell_type": "code",
      "execution_count": null,
      "id": "8f943f58-4ae4-411a-907c-753e8afac44b",
      "metadata": {
        "id": "8f943f58-4ae4-411a-907c-753e8afac44b"
      },
      "outputs": [],
      "source": [
        "df = pd.read_csv(\"world_population.csv\", index_col=0)\n"
      ]
    },
    {
      "cell_type": "markdown",
      "id": "55ad9f8e",
      "metadata": {
        "id": "55ad9f8e"
      },
      "source": [
        "### 1-VAZIFA. Yuqoridagi DF ustunlari nomini quyidagi qiymatlarga o'zgartiring va DF yuqorisidan 3 ta davlatni chiqaring\n",
        "`['davlat','zichlik_km','zichlik_mi','aholi','maydoni']`"
      ]
    },
    {
      "cell_type": "code",
      "execution_count": null,
      "id": "IMjytTZ0t40I",
      "metadata": {
        "id": "IMjytTZ0t40I"
      },
      "outputs": [],
      "source": [
        "# JAVOBNI SHUYERGA YOZING\n"
      ]
    },
    {
      "cell_type": "markdown",
      "id": "6ccd740a-a190-427e-a8ad-963e161cd7b1",
      "metadata": {
        "id": "6ccd740a-a190-427e-a8ad-963e161cd7b1"
      },
      "source": [
        "## Yuqoridagi jadval dunyo davlatlarining aholi zichligi bo'yicha reytingini ko'rsatadi.\n",
        "DF indeksi sifatida davlatning zichlik reytingi olingan (aholi eng zich yashaydigan davlatlar yuqorida).\n",
        "\n",
        "**Ustunlar:**\n",
        "\n",
        "`davlat` - Davlat nomi\n",
        "\n",
        "`zichlik_km` - har 1 kv.km. ga to'g'ri keluvchi aholi soni\n",
        "\n",
        "`zichlik_mi` - har 1 kv.milyaga to'g'ri keluvchi aholi soni (milya - AQSh masofa o'lchov birligi)\n",
        "\n",
        "`aholi` - 2021-yilga ko'rsa aholi soni (ming)\n",
        "\n",
        "`maydoni` - davlat maydoni (kv.km)"
      ]
    },
    {
      "cell_type": "markdown",
      "id": "whG3yzyntr-g",
      "metadata": {
        "id": "whG3yzyntr-g"
      },
      "source": [
        "### 2-VAZIFA. DF oxiridan 10 ta qator chiqaring."
      ]
    },
    {
      "cell_type": "code",
      "execution_count": null,
      "id": "2203a21e-dc12-48b5-8d2e-737c42f72669",
      "metadata": {
        "id": "2203a21e-dc12-48b5-8d2e-737c42f72669"
      },
      "outputs": [],
      "source": [
        "# JAVOBNI SHUYERGA YOZING\n"
      ]
    },
    {
      "cell_type": "markdown",
      "id": "j7eE78e0-0QR",
      "metadata": {
        "id": "j7eE78e0-0QR"
      },
      "source": [
        "### 3-VAZIFA. DF dan 10, 20, 100, 200-indekslarda turgan davlatlarni alohida DF ko'rinishida chiqaring."
      ]
    },
    {
      "cell_type": "code",
      "execution_count": null,
      "id": "e6oOFKypt7W-",
      "metadata": {
        "id": "e6oOFKypt7W-"
      },
      "outputs": [],
      "source": [
        "# JAVOBNI SHUYERGA YOZING\n"
      ]
    },
    {
      "cell_type": "markdown",
      "id": "-4lcfYxJB6iM",
      "metadata": {
        "id": "-4lcfYxJB6iM"
      },
      "source": [
        "### 4-VAZIFA. Davlatlar orasida `Uzbekistan`, `Hong-Kong`, `Antartica` borligini tekshiring"
      ]
    },
    {
      "cell_type": "code",
      "execution_count": null,
      "id": "dHOCUSlx_r1w",
      "metadata": {
        "id": "dHOCUSlx_r1w"
      },
      "outputs": [],
      "source": [
        "# JAVOBNI SHUYERGA YOZING\n"
      ]
    },
    {
      "cell_type": "markdown",
      "id": "3AkPYoQbGavc",
      "metadata": {
        "id": "3AkPYoQbGavc"
      },
      "source": [
        "### 5-VAZIFA.\n",
        "#### 5.1 DFning `davlat` nomli ustunini uning indeksi qilib belgilang.\n",
        "#### 5.2 `davlat` ustunini tashlab yuboring.\n",
        "#### 5.3 DFni davlat nomi bo'yicha tartiblang"
      ]
    },
    {
      "cell_type": "code",
      "execution_count": null,
      "id": "pqgh3X3UGthA",
      "metadata": {
        "id": "pqgh3X3UGthA"
      },
      "outputs": [],
      "source": [
        "# JAVOBNI SHUYERGA YOZING\n"
      ]
    },
    {
      "cell_type": "code",
      "execution_count": null,
      "id": "PVYvoGlOGvAS",
      "metadata": {
        "cellView": "form",
        "colab": {
          "base_uri": "https://localhost:8080/",
          "height": 235
        },
        "id": "PVYvoGlOGvAS",
        "outputId": "94e594a4-a516-4083-bfda-df86c797589c"
      },
      "outputs": [
        {
          "data": {
            "text/html": [
              "<div>\n",
              "<style scoped>\n",
              "    .dataframe tbody tr th:only-of-type {\n",
              "        vertical-align: middle;\n",
              "    }\n",
              "\n",
              "    .dataframe tbody tr th {\n",
              "        vertical-align: top;\n",
              "    }\n",
              "\n",
              "    .dataframe thead th {\n",
              "        text-align: right;\n",
              "    }\n",
              "</style>\n",
              "<table border=\"1\" class=\"dataframe\">\n",
              "  <thead>\n",
              "    <tr style=\"text-align: right;\">\n",
              "      <th></th>\n",
              "      <th>zichlik_km</th>\n",
              "      <th>zichlik_mi</th>\n",
              "      <th>aholi</th>\n",
              "      <th>maydoni</th>\n",
              "    </tr>\n",
              "    <tr>\n",
              "      <th>davlat</th>\n",
              "      <th></th>\n",
              "      <th></th>\n",
              "      <th></th>\n",
              "      <th></th>\n",
              "    </tr>\n",
              "  </thead>\n",
              "  <tbody>\n",
              "    <tr>\n",
              "      <th>Afghanistan</th>\n",
              "      <td>61.0757</td>\n",
              "      <td>158.1862</td>\n",
              "      <td>39835.428</td>\n",
              "      <td>652230</td>\n",
              "    </tr>\n",
              "    <tr>\n",
              "      <th>Albania</th>\n",
              "      <td>99.9351</td>\n",
              "      <td>258.8318</td>\n",
              "      <td>2872.933</td>\n",
              "      <td>28748</td>\n",
              "    </tr>\n",
              "    <tr>\n",
              "      <th>Algeria</th>\n",
              "      <td>18.7328</td>\n",
              "      <td>48.5179</td>\n",
              "      <td>44616.624</td>\n",
              "      <td>2381741</td>\n",
              "    </tr>\n",
              "    <tr>\n",
              "      <th>American Samoa</th>\n",
              "      <td>276.8844</td>\n",
              "      <td>717.1307</td>\n",
              "      <td>55.100</td>\n",
              "      <td>199</td>\n",
              "    </tr>\n",
              "    <tr>\n",
              "      <th>Andorra</th>\n",
              "      <td>165.2885</td>\n",
              "      <td>428.0971</td>\n",
              "      <td>77.355</td>\n",
              "      <td>468</td>\n",
              "    </tr>\n",
              "  </tbody>\n",
              "</table>\n",
              "</div>"
            ],
            "text/plain": [
              "                zichlik_km  zichlik_mi      aholi  maydoni\n",
              "davlat                                                    \n",
              "Afghanistan        61.0757    158.1862  39835.428   652230\n",
              "Albania            99.9351    258.8318   2872.933    28748\n",
              "Algeria            18.7328     48.5179  44616.624  2381741\n",
              "American Samoa    276.8844    717.1307     55.100      199\n",
              "Andorra           165.2885    428.0971     77.355      468"
            ]
          },
          "execution_count": 52,
          "metadata": {},
          "output_type": "execute_result"
        }
      ],
      "source": [
        "#@title Kutilayotgan natija\n"
      ]
    },
    {
      "cell_type": "markdown",
      "id": "WQgxUhHVI-sT",
      "metadata": {
        "id": "WQgxUhHVI-sT"
      },
      "source": [
        "### 6-VAZIFA. DF dan `Uzbekistan`, `Malaysia`, `South Korea`, `France` davlatlari `aholi` va `maydoni` ustunlari bilan alohida DF ko'rinishida ajratib oling."
      ]
    },
    {
      "cell_type": "code",
      "execution_count": null,
      "id": "CA_UMXWSJf8T",
      "metadata": {
        "id": "CA_UMXWSJf8T"
      },
      "outputs": [],
      "source": [
        "# JAVOBNI SHUYERGA YOZING\n"
      ]
    },
    {
      "cell_type": "code",
      "execution_count": null,
      "id": "qOUaHp9BKCRm",
      "metadata": {
        "cellView": "form",
        "colab": {
          "base_uri": "https://localhost:8080/",
          "height": 204
        },
        "id": "qOUaHp9BKCRm",
        "outputId": "aed34971-6c32-488d-e41e-284389c46dde"
      },
      "outputs": [
        {
          "data": {
            "text/html": [
              "<div>\n",
              "<style scoped>\n",
              "    .dataframe tbody tr th:only-of-type {\n",
              "        vertical-align: middle;\n",
              "    }\n",
              "\n",
              "    .dataframe tbody tr th {\n",
              "        vertical-align: top;\n",
              "    }\n",
              "\n",
              "    .dataframe thead th {\n",
              "        text-align: right;\n",
              "    }\n",
              "</style>\n",
              "<table border=\"1\" class=\"dataframe\">\n",
              "  <thead>\n",
              "    <tr style=\"text-align: right;\">\n",
              "      <th></th>\n",
              "      <th>aholi</th>\n",
              "      <th>maydoni</th>\n",
              "    </tr>\n",
              "    <tr>\n",
              "      <th>davlat</th>\n",
              "      <th></th>\n",
              "      <th></th>\n",
              "    </tr>\n",
              "  </thead>\n",
              "  <tbody>\n",
              "    <tr>\n",
              "      <th>Singapore</th>\n",
              "      <td>5896.686</td>\n",
              "      <td>710</td>\n",
              "    </tr>\n",
              "    <tr>\n",
              "      <th>North Korea</th>\n",
              "      <td>25887.041</td>\n",
              "      <td>120538</td>\n",
              "    </tr>\n",
              "    <tr>\n",
              "      <th>Germany</th>\n",
              "      <td>83900.473</td>\n",
              "      <td>357114</td>\n",
              "    </tr>\n",
              "    <tr>\n",
              "      <th>Kazakhstan</th>\n",
              "      <td>18994.962</td>\n",
              "      <td>2724900</td>\n",
              "    </tr>\n",
              "  </tbody>\n",
              "</table>\n",
              "</div>"
            ],
            "text/plain": [
              "                 aholi  maydoni\n",
              "davlat                         \n",
              "Singapore     5896.686      710\n",
              "North Korea  25887.041   120538\n",
              "Germany      83900.473   357114\n",
              "Kazakhstan   18994.962  2724900"
            ]
          },
          "execution_count": 60,
          "metadata": {},
          "output_type": "execute_result"
        }
      ],
      "source": [
        "#@title O'xshash natija (boshqa davlatlar uchun)"
      ]
    },
    {
      "cell_type": "markdown",
      "id": "MD9cG-oGMUXl",
      "metadata": {
        "id": "MD9cG-oGMUXl"
      },
      "source": [
        "### 7-VAZIFA. Asl DFning `aholi` ustuni qiymatlarini 1000 ga ko'paytiring."
      ]
    },
    {
      "cell_type": "code",
      "execution_count": null,
      "id": "AWNqbnGgKZtH",
      "metadata": {
        "id": "AWNqbnGgKZtH"
      },
      "outputs": [],
      "source": [
        "# JAVOBNI SHUYERGA YOZING\n"
      ]
    },
    {
      "cell_type": "code",
      "execution_count": null,
      "id": "7NtDk90HNFOE",
      "metadata": {
        "cellView": "form",
        "colab": {
          "base_uri": "https://localhost:8080/",
          "height": 235
        },
        "id": "7NtDk90HNFOE",
        "outputId": "69f45bf0-3ed7-4806-df63-beb5d000ad58"
      },
      "outputs": [
        {
          "data": {
            "text/html": [
              "<div>\n",
              "<style scoped>\n",
              "    .dataframe tbody tr th:only-of-type {\n",
              "        vertical-align: middle;\n",
              "    }\n",
              "\n",
              "    .dataframe tbody tr th {\n",
              "        vertical-align: top;\n",
              "    }\n",
              "\n",
              "    .dataframe thead th {\n",
              "        text-align: right;\n",
              "    }\n",
              "</style>\n",
              "<table border=\"1\" class=\"dataframe\">\n",
              "  <thead>\n",
              "    <tr style=\"text-align: right;\">\n",
              "      <th></th>\n",
              "      <th>zichlik_km</th>\n",
              "      <th>zichlik_mi</th>\n",
              "      <th>aholi</th>\n",
              "      <th>maydoni</th>\n",
              "    </tr>\n",
              "    <tr>\n",
              "      <th>davlat</th>\n",
              "      <th></th>\n",
              "      <th></th>\n",
              "      <th></th>\n",
              "      <th></th>\n",
              "    </tr>\n",
              "  </thead>\n",
              "  <tbody>\n",
              "    <tr>\n",
              "      <th>Afghanistan</th>\n",
              "      <td>61.0757</td>\n",
              "      <td>158.1862</td>\n",
              "      <td>39835428.0</td>\n",
              "      <td>652230</td>\n",
              "    </tr>\n",
              "    <tr>\n",
              "      <th>Albania</th>\n",
              "      <td>99.9351</td>\n",
              "      <td>258.8318</td>\n",
              "      <td>2872933.0</td>\n",
              "      <td>28748</td>\n",
              "    </tr>\n",
              "    <tr>\n",
              "      <th>Algeria</th>\n",
              "      <td>18.7328</td>\n",
              "      <td>48.5179</td>\n",
              "      <td>44616624.0</td>\n",
              "      <td>2381741</td>\n",
              "    </tr>\n",
              "    <tr>\n",
              "      <th>American Samoa</th>\n",
              "      <td>276.8844</td>\n",
              "      <td>717.1307</td>\n",
              "      <td>55100.0</td>\n",
              "      <td>199</td>\n",
              "    </tr>\n",
              "    <tr>\n",
              "      <th>Andorra</th>\n",
              "      <td>165.2885</td>\n",
              "      <td>428.0971</td>\n",
              "      <td>77355.0</td>\n",
              "      <td>468</td>\n",
              "    </tr>\n",
              "  </tbody>\n",
              "</table>\n",
              "</div>"
            ],
            "text/plain": [
              "                zichlik_km  zichlik_mi       aholi  maydoni\n",
              "davlat                                                     \n",
              "Afghanistan        61.0757    158.1862  39835428.0   652230\n",
              "Albania            99.9351    258.8318   2872933.0    28748\n",
              "Algeria            18.7328     48.5179  44616624.0  2381741\n",
              "American Samoa    276.8844    717.1307     55100.0      199\n",
              "Andorra           165.2885    428.0971     77355.0      468"
            ]
          },
          "execution_count": 62,
          "metadata": {},
          "output_type": "execute_result"
        }
      ],
      "source": [
        "#@title Kutilgan natija\n"
      ]
    },
    {
      "cell_type": "markdown",
      "id": "Ss1Zy9g-PE9T",
      "metadata": {
        "id": "Ss1Zy9g-PE9T"
      },
      "source": [
        "DF ni `aholi` ustuni bo'yicha kamayish tartibida tahlang va aholisi eng kam 10 ta davlatni chiqaring."
      ]
    },
    {
      "cell_type": "code",
      "execution_count": null,
      "id": "PCkG4gJJPFsp",
      "metadata": {
        "id": "PCkG4gJJPFsp"
      },
      "outputs": [],
      "source": [
        "# JAVOBNI SHUYERGA YOZING\n"
      ]
    },
    {
      "cell_type": "markdown",
      "id": "Py6rMpkISr0E",
      "metadata": {
        "id": "Py6rMpkISr0E"
      },
      "source": [
        "### 8-VAZIFA. DFni `maydoni` bo'yicha reytinglang (rank) va reytinglarni yangi `rank` ustuniga yozing."
      ]
    },
    {
      "cell_type": "code",
      "execution_count": null,
      "id": "05Ku1LKIQh2c",
      "metadata": {
        "id": "05Ku1LKIQh2c"
      },
      "outputs": [],
      "source": [
        "# JAVOBNI SHUYERGA YOZING\n"
      ]
    },
    {
      "cell_type": "code",
      "execution_count": null,
      "id": "hdwtw14-S7SF",
      "metadata": {
        "cellView": "form",
        "colab": {
          "base_uri": "https://localhost:8080/",
          "height": 450
        },
        "id": "hdwtw14-S7SF",
        "outputId": "3eab62c7-cbcc-4fa0-fb4a-1aaf3032643f"
      },
      "outputs": [
        {
          "data": {
            "text/html": [
              "<div>\n",
              "<style scoped>\n",
              "    .dataframe tbody tr th:only-of-type {\n",
              "        vertical-align: middle;\n",
              "    }\n",
              "\n",
              "    .dataframe tbody tr th {\n",
              "        vertical-align: top;\n",
              "    }\n",
              "\n",
              "    .dataframe thead th {\n",
              "        text-align: right;\n",
              "    }\n",
              "</style>\n",
              "<table border=\"1\" class=\"dataframe\">\n",
              "  <thead>\n",
              "    <tr style=\"text-align: right;\">\n",
              "      <th></th>\n",
              "      <th>zichlik_km</th>\n",
              "      <th>zichlik_mi</th>\n",
              "      <th>aholi</th>\n",
              "      <th>maydoni</th>\n",
              "      <th>rank</th>\n",
              "    </tr>\n",
              "    <tr>\n",
              "      <th>davlat</th>\n",
              "      <th></th>\n",
              "      <th></th>\n",
              "      <th></th>\n",
              "      <th></th>\n",
              "      <th></th>\n",
              "    </tr>\n",
              "  </thead>\n",
              "  <tbody>\n",
              "    <tr>\n",
              "      <th>Afghanistan</th>\n",
              "      <td>61.0757</td>\n",
              "      <td>158.1862</td>\n",
              "      <td>39835428.0</td>\n",
              "      <td>652230</td>\n",
              "      <td>192.0</td>\n",
              "    </tr>\n",
              "    <tr>\n",
              "      <th>Albania</th>\n",
              "      <td>99.9351</td>\n",
              "      <td>258.8318</td>\n",
              "      <td>2872933.0</td>\n",
              "      <td>28748</td>\n",
              "      <td>89.0</td>\n",
              "    </tr>\n",
              "    <tr>\n",
              "      <th>Algeria</th>\n",
              "      <td>18.7328</td>\n",
              "      <td>48.5179</td>\n",
              "      <td>44616624.0</td>\n",
              "      <td>2381741</td>\n",
              "      <td>223.0</td>\n",
              "    </tr>\n",
              "    <tr>\n",
              "      <th>American Samoa</th>\n",
              "      <td>276.8844</td>\n",
              "      <td>717.1307</td>\n",
              "      <td>55100.0</td>\n",
              "      <td>199</td>\n",
              "      <td>20.0</td>\n",
              "    </tr>\n",
              "    <tr>\n",
              "      <th>Andorra</th>\n",
              "      <td>165.2885</td>\n",
              "      <td>428.0971</td>\n",
              "      <td>77355.0</td>\n",
              "      <td>468</td>\n",
              "      <td>38.0</td>\n",
              "    </tr>\n",
              "    <tr>\n",
              "      <th>...</th>\n",
              "      <td>...</td>\n",
              "      <td>...</td>\n",
              "      <td>...</td>\n",
              "      <td>...</td>\n",
              "      <td>...</td>\n",
              "    </tr>\n",
              "    <tr>\n",
              "      <th>Wallis and Futuna</th>\n",
              "      <td>78.1268</td>\n",
              "      <td>202.3483</td>\n",
              "      <td>11094.0</td>\n",
              "      <td>142</td>\n",
              "      <td>15.0</td>\n",
              "    </tr>\n",
              "    <tr>\n",
              "      <th>Western Sahara</th>\n",
              "      <td>2.3003</td>\n",
              "      <td>5.9577</td>\n",
              "      <td>611875.0</td>\n",
              "      <td>266000</td>\n",
              "      <td>155.0</td>\n",
              "    </tr>\n",
              "    <tr>\n",
              "      <th>Yemen</th>\n",
              "      <td>57.7509</td>\n",
              "      <td>149.5749</td>\n",
              "      <td>30490640.0</td>\n",
              "      <td>527968</td>\n",
              "      <td>183.0</td>\n",
              "    </tr>\n",
              "    <tr>\n",
              "      <th>Zambia</th>\n",
              "      <td>25.1400</td>\n",
              "      <td>65.1125</td>\n",
              "      <td>18920651.0</td>\n",
              "      <td>752612</td>\n",
              "      <td>194.0</td>\n",
              "    </tr>\n",
              "    <tr>\n",
              "      <th>Zimbabwe</th>\n",
              "      <td>38.6229</td>\n",
              "      <td>100.0333</td>\n",
              "      <td>15092171.0</td>\n",
              "      <td>390757</td>\n",
              "      <td>172.0</td>\n",
              "    </tr>\n",
              "  </tbody>\n",
              "</table>\n",
              "<p>232 rows × 5 columns</p>\n",
              "</div>"
            ],
            "text/plain": [
              "                   zichlik_km  zichlik_mi       aholi  maydoni   rank\n",
              "davlat                                                               \n",
              "Afghanistan           61.0757    158.1862  39835428.0   652230  192.0\n",
              "Albania               99.9351    258.8318   2872933.0    28748   89.0\n",
              "Algeria               18.7328     48.5179  44616624.0  2381741  223.0\n",
              "American Samoa       276.8844    717.1307     55100.0      199   20.0\n",
              "Andorra              165.2885    428.0971     77355.0      468   38.0\n",
              "...                       ...         ...         ...      ...    ...\n",
              "Wallis and Futuna     78.1268    202.3483     11094.0      142   15.0\n",
              "Western Sahara         2.3003      5.9577    611875.0   266000  155.0\n",
              "Yemen                 57.7509    149.5749  30490640.0   527968  183.0\n",
              "Zambia                25.1400     65.1125  18920651.0   752612  194.0\n",
              "Zimbabwe              38.6229    100.0333  15092171.0   390757  172.0\n",
              "\n",
              "[232 rows x 5 columns]"
            ]
          },
          "execution_count": 71,
          "metadata": {},
          "output_type": "execute_result"
        }
      ],
      "source": [
        "#@title Kutilgan natija\n"
      ]
    },
    {
      "cell_type": "markdown",
      "id": "DnKJZeduURMw",
      "metadata": {
        "id": "DnKJZeduURMw"
      },
      "source": [
        "#### `Uzbekistan`, `United Kingdom`, `Indonesia` davlatlari alohida df ko'rinishida chiqaring"
      ]
    },
    {
      "cell_type": "code",
      "execution_count": null,
      "id": "xWT62dRzTQNq",
      "metadata": {
        "id": "xWT62dRzTQNq"
      },
      "outputs": [],
      "source": [
        "# JAVOBNI SHUYERGA YOZING\n"
      ]
    },
    {
      "cell_type": "code",
      "execution_count": null,
      "id": "bh7R6A14UeKJ",
      "metadata": {
        "cellView": "form",
        "colab": {
          "base_uri": "https://localhost:8080/",
          "height": 173
        },
        "id": "bh7R6A14UeKJ",
        "outputId": "27fc0bb0-826f-4b13-9530-e4f85d6a8920"
      },
      "outputs": [
        {
          "data": {
            "text/html": [
              "<div>\n",
              "<style scoped>\n",
              "    .dataframe tbody tr th:only-of-type {\n",
              "        vertical-align: middle;\n",
              "    }\n",
              "\n",
              "    .dataframe tbody tr th {\n",
              "        vertical-align: top;\n",
              "    }\n",
              "\n",
              "    .dataframe thead th {\n",
              "        text-align: right;\n",
              "    }\n",
              "</style>\n",
              "<table border=\"1\" class=\"dataframe\">\n",
              "  <thead>\n",
              "    <tr style=\"text-align: right;\">\n",
              "      <th></th>\n",
              "      <th>zichlik_km</th>\n",
              "      <th>zichlik_mi</th>\n",
              "      <th>aholi</th>\n",
              "      <th>maydoni</th>\n",
              "      <th>rank</th>\n",
              "    </tr>\n",
              "    <tr>\n",
              "      <th>davlat</th>\n",
              "      <th></th>\n",
              "      <th></th>\n",
              "      <th></th>\n",
              "      <th></th>\n",
              "      <th></th>\n",
              "    </tr>\n",
              "  </thead>\n",
              "  <tbody>\n",
              "    <tr>\n",
              "      <th>Turkmenistan</th>\n",
              "      <td>12.5342</td>\n",
              "      <td>32.4635</td>\n",
              "      <td>6117924.0</td>\n",
              "      <td>488100</td>\n",
              "      <td>180.0</td>\n",
              "    </tr>\n",
              "    <tr>\n",
              "      <th>United States</th>\n",
              "      <td>35.5200</td>\n",
              "      <td>91.9968</td>\n",
              "      <td>332915073.0</td>\n",
              "      <td>9372610</td>\n",
              "      <td>229.0</td>\n",
              "    </tr>\n",
              "    <tr>\n",
              "      <th>Vietnam</th>\n",
              "      <td>296.3927</td>\n",
              "      <td>767.6572</td>\n",
              "      <td>98168833.0</td>\n",
              "      <td>331212</td>\n",
              "      <td>166.0</td>\n",
              "    </tr>\n",
              "  </tbody>\n",
              "</table>\n",
              "</div>"
            ],
            "text/plain": [
              "               zichlik_km  zichlik_mi        aholi  maydoni   rank\n",
              "davlat                                                            \n",
              "Turkmenistan      12.5342     32.4635    6117924.0   488100  180.0\n",
              "United States     35.5200     91.9968  332915073.0  9372610  229.0\n",
              "Vietnam          296.3927    767.6572   98168833.0   331212  166.0"
            ]
          },
          "execution_count": 84,
          "metadata": {},
          "output_type": "execute_result"
        }
      ],
      "source": [
        "#@title O'xshash natija (boshqa davlatlar uchun)\n"
      ]
    },
    {
      "cell_type": "markdown",
      "id": "Gb_fA7pkW7qo",
      "metadata": {
        "id": "Gb_fA7pkW7qo"
      },
      "source": [
        "### 9-VAZIFA. DFni `davlat` nomi bo'yicha tartiblang."
      ]
    },
    {
      "cell_type": "code",
      "execution_count": null,
      "id": "7jGiBGyKXZaZ",
      "metadata": {
        "id": "7jGiBGyKXZaZ"
      },
      "outputs": [],
      "source": [
        "# JAVOBNI SHUYERGA YOZING\n"
      ]
    },
    {
      "cell_type": "code",
      "execution_count": null,
      "id": "TLI1-RpEXbIg",
      "metadata": {
        "cellView": "form",
        "colab": {
          "base_uri": "https://localhost:8080/",
          "height": 235
        },
        "id": "TLI1-RpEXbIg",
        "outputId": "f0da8eeb-48b4-4ed4-d04c-8a89c4110aea"
      },
      "outputs": [
        {
          "data": {
            "text/html": [
              "<div>\n",
              "<style scoped>\n",
              "    .dataframe tbody tr th:only-of-type {\n",
              "        vertical-align: middle;\n",
              "    }\n",
              "\n",
              "    .dataframe tbody tr th {\n",
              "        vertical-align: top;\n",
              "    }\n",
              "\n",
              "    .dataframe thead th {\n",
              "        text-align: right;\n",
              "    }\n",
              "</style>\n",
              "<table border=\"1\" class=\"dataframe\">\n",
              "  <thead>\n",
              "    <tr style=\"text-align: right;\">\n",
              "      <th></th>\n",
              "      <th>zichlik_km</th>\n",
              "      <th>zichlik_mi</th>\n",
              "      <th>aholi</th>\n",
              "      <th>maydoni</th>\n",
              "      <th>rank</th>\n",
              "    </tr>\n",
              "    <tr>\n",
              "      <th>davlat</th>\n",
              "      <th></th>\n",
              "      <th></th>\n",
              "      <th></th>\n",
              "      <th></th>\n",
              "      <th></th>\n",
              "    </tr>\n",
              "  </thead>\n",
              "  <tbody>\n",
              "    <tr>\n",
              "      <th>Afghanistan</th>\n",
              "      <td>61.0757</td>\n",
              "      <td>158.1862</td>\n",
              "      <td>39835428.0</td>\n",
              "      <td>652230</td>\n",
              "      <td>192.0</td>\n",
              "    </tr>\n",
              "    <tr>\n",
              "      <th>Albania</th>\n",
              "      <td>99.9351</td>\n",
              "      <td>258.8318</td>\n",
              "      <td>2872933.0</td>\n",
              "      <td>28748</td>\n",
              "      <td>89.0</td>\n",
              "    </tr>\n",
              "    <tr>\n",
              "      <th>Algeria</th>\n",
              "      <td>18.7328</td>\n",
              "      <td>48.5179</td>\n",
              "      <td>44616624.0</td>\n",
              "      <td>2381741</td>\n",
              "      <td>223.0</td>\n",
              "    </tr>\n",
              "    <tr>\n",
              "      <th>American Samoa</th>\n",
              "      <td>276.8844</td>\n",
              "      <td>717.1307</td>\n",
              "      <td>55100.0</td>\n",
              "      <td>199</td>\n",
              "      <td>20.0</td>\n",
              "    </tr>\n",
              "    <tr>\n",
              "      <th>Andorra</th>\n",
              "      <td>165.2885</td>\n",
              "      <td>428.0971</td>\n",
              "      <td>77355.0</td>\n",
              "      <td>468</td>\n",
              "      <td>38.0</td>\n",
              "    </tr>\n",
              "  </tbody>\n",
              "</table>\n",
              "</div>"
            ],
            "text/plain": [
              "                zichlik_km  zichlik_mi       aholi  maydoni   rank\n",
              "davlat                                                            \n",
              "Afghanistan        61.0757    158.1862  39835428.0   652230  192.0\n",
              "Albania            99.9351    258.8318   2872933.0    28748   89.0\n",
              "Algeria            18.7328     48.5179  44616624.0  2381741  223.0\n",
              "American Samoa    276.8844    717.1307     55100.0      199   20.0\n",
              "Andorra           165.2885    428.0971     77355.0      468   38.0"
            ]
          },
          "execution_count": 88,
          "metadata": {},
          "output_type": "execute_result"
        }
      ],
      "source": [
        "#@title Kutilgan natija"
      ]
    },
    {
      "cell_type": "markdown",
      "id": "mTvs6OF9XzN7",
      "metadata": {
        "id": "mTvs6OF9XzN7"
      },
      "source": [
        "#### DFdan 10,50,100,200-o'rinda turgan davlatlarni alohida DF ko'rinishida chiqaring"
      ]
    },
    {
      "cell_type": "code",
      "execution_count": null,
      "id": "e_58EgMWXy85",
      "metadata": {
        "id": "e_58EgMWXy85"
      },
      "outputs": [],
      "source": [
        "# JAVOBNI SHUYERGA YOZING\n"
      ]
    },
    {
      "cell_type": "code",
      "execution_count": null,
      "id": "gITWVh2wXvG7",
      "metadata": {
        "cellView": "form",
        "colab": {
          "base_uri": "https://localhost:8080/",
          "height": 204
        },
        "id": "gITWVh2wXvG7",
        "outputId": "84b7edf9-feaa-40ae-c262-044c22bdc7c7"
      },
      "outputs": [
        {
          "data": {
            "text/html": [
              "<div>\n",
              "<style scoped>\n",
              "    .dataframe tbody tr th:only-of-type {\n",
              "        vertical-align: middle;\n",
              "    }\n",
              "\n",
              "    .dataframe tbody tr th {\n",
              "        vertical-align: top;\n",
              "    }\n",
              "\n",
              "    .dataframe thead th {\n",
              "        text-align: right;\n",
              "    }\n",
              "</style>\n",
              "<table border=\"1\" class=\"dataframe\">\n",
              "  <thead>\n",
              "    <tr style=\"text-align: right;\">\n",
              "      <th></th>\n",
              "      <th>zichlik_km</th>\n",
              "      <th>zichlik_mi</th>\n",
              "      <th>aholi</th>\n",
              "      <th>maydoni</th>\n",
              "      <th>rank</th>\n",
              "    </tr>\n",
              "    <tr>\n",
              "      <th>davlat</th>\n",
              "      <th></th>\n",
              "      <th></th>\n",
              "      <th></th>\n",
              "      <th></th>\n",
              "      <th></th>\n",
              "    </tr>\n",
              "  </thead>\n",
              "  <tbody>\n",
              "    <tr>\n",
              "      <th>Belize</th>\n",
              "      <td>17.6310</td>\n",
              "      <td>45.6643</td>\n",
              "      <td>404914.0</td>\n",
              "      <td>22966</td>\n",
              "      <td>82.0</td>\n",
              "    </tr>\n",
              "    <tr>\n",
              "      <th>French Polynesia</th>\n",
              "      <td>67.8018</td>\n",
              "      <td>175.6066</td>\n",
              "      <td>282530.0</td>\n",
              "      <td>4167</td>\n",
              "      <td>60.0</td>\n",
              "    </tr>\n",
              "    <tr>\n",
              "      <th>Guadeloupe</th>\n",
              "      <td>245.7125</td>\n",
              "      <td>636.3955</td>\n",
              "      <td>400020.0</td>\n",
              "      <td>1628</td>\n",
              "      <td>53.0</td>\n",
              "    </tr>\n",
              "    <tr>\n",
              "      <th>United States Virgin Islands</th>\n",
              "      <td>300.3631</td>\n",
              "      <td>777.9405</td>\n",
              "      <td>104226.0</td>\n",
              "      <td>347</td>\n",
              "      <td>29.0</td>\n",
              "    </tr>\n",
              "  </tbody>\n",
              "</table>\n",
              "</div>"
            ],
            "text/plain": [
              "                              zichlik_km  zichlik_mi     aholi  maydoni  rank\n",
              "davlat                                                                       \n",
              "Belize                           17.6310     45.6643  404914.0    22966  82.0\n",
              "French Polynesia                 67.8018    175.6066  282530.0     4167  60.0\n",
              "Guadeloupe                      245.7125    636.3955  400020.0     1628  53.0\n",
              "United States Virgin Islands    300.3631    777.9405  104226.0      347  29.0"
            ]
          },
          "execution_count": 89,
          "metadata": {},
          "output_type": "execute_result"
        }
      ],
      "source": [
        "#@title O'xshash natija (boshqa qatorlar uchun)\n"
      ]
    },
    {
      "cell_type": "markdown",
      "id": "GwMtmbecZ0CF",
      "metadata": {
        "id": "GwMtmbecZ0CF"
      },
      "source": [
        "### 10-VAZIFA. Quyidagi davlatlarning `aholi` sonini oddiy son ko'rinishida chiqaring:\n",
        "- `Malaysia`\n",
        "- `Nigeria`\n",
        "- `Nepal`\n",
        "- `Italy`"
      ]
    },
    {
      "cell_type": "code",
      "execution_count": null,
      "id": "gTnfsoLIYkkk",
      "metadata": {
        "id": "gTnfsoLIYkkk"
      },
      "outputs": [],
      "source": [
        "# JAVOBNI SHUYERGA YOZING\n"
      ]
    },
    {
      "cell_type": "code",
      "execution_count": null,
      "id": "iAxEuYYbae5s",
      "metadata": {
        "cellView": "form",
        "colab": {
          "base_uri": "https://localhost:8080/"
        },
        "id": "iAxEuYYbae5s",
        "outputId": "1db2c574-da66-4899-a8e5-410499ae2e38"
      },
      "outputs": [
        {
          "data": {
            "text/plain": [
              "33935763.0"
            ]
          },
          "execution_count": 92,
          "metadata": {},
          "output_type": "execute_result"
        }
      ],
      "source": [
        "#@title o'xshash natija (`Uzbekistan` uchun)\n"
      ]
    }
  ],
  "metadata": {
    "colab": {
      "provenance": []
    },
    "kernelspec": {
      "display_name": "Python 3",
      "language": "python",
      "name": "python3"
    },
    "language_info": {
      "codemirror_mode": {
        "name": "ipython",
        "version": 3
      },
      "file_extension": ".py",
      "mimetype": "text/x-python",
      "name": "python",
      "nbconvert_exporter": "python",
      "pygments_lexer": "ipython3",
      "version": "3.8.8"
    }
  },
  "nbformat": 4,
  "nbformat_minor": 5
}
